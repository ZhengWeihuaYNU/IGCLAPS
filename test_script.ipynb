{
 "cells": [
  {
   "cell_type": "code",
   "execution_count": 2,
   "id": "e1315f1d-6812-46e2-ab5c-6d70b40a7239",
   "metadata": {},
   "outputs": [
    {
     "name": "stdout",
     "output_type": "stream",
     "text": [
      "Looking in indexes: http://mirrors.aliyun.com/pypi/simple\n",
      "Requirement already satisfied: numpy==1.26.4 in ./miniconda3/lib/python3.12/site-packages (1.26.4)\n",
      "\u001b[33mWARNING: Running pip as the 'root' user can result in broken permissions and conflicting behaviour with the system package manager. It is recommended to use a virtual environment instead: https://pip.pypa.io/warnings/venv\u001b[0m\u001b[33m\n",
      "\u001b[0mNote: you may need to restart the kernel to use updated packages.\n"
     ]
    }
   ],
   "source": [
    "pip install numpy==1.26.4"
   ]
  },
  {
   "cell_type": "code",
   "execution_count": 3,
   "id": "1cdbb1b2-4d0f-485d-9e12-0328ae6e332b",
   "metadata": {},
   "outputs": [
    {
     "name": "stdout",
     "output_type": "stream",
     "text": [
      "Looking in indexes: http://mirrors.aliyun.com/pypi/simple\n",
      "Collecting pandas==2.2.3\n",
      "  Downloading http://mirrors.aliyun.com/pypi/packages/38/f8/d8fddee9ed0d0c0f4a2132c1dfcf0e3e53265055da8df952a53e7eaf178c/pandas-2.2.3-cp312-cp312-manylinux_2_17_x86_64.manylinux2014_x86_64.whl (12.7 MB)\n",
      "\u001b[2K     \u001b[90m━━━━━━━━━━━━━━━━━━━━━━━━━━━━━━━━━━━━━━━━\u001b[0m \u001b[32m12.7/12.7 MB\u001b[0m \u001b[31m10.0 MB/s\u001b[0m eta \u001b[36m0:00:00\u001b[0m00:01\u001b[0m00:01\u001b[0m\n",
      "\u001b[?25hRequirement already satisfied: numpy>=1.26.0 in ./miniconda3/lib/python3.12/site-packages (from pandas==2.2.3) (1.26.4)\n",
      "Requirement already satisfied: python-dateutil>=2.8.2 in ./miniconda3/lib/python3.12/site-packages (from pandas==2.2.3) (2.9.0.post0)\n",
      "Collecting pytz>=2020.1 (from pandas==2.2.3)\n",
      "  Downloading http://mirrors.aliyun.com/pypi/packages/81/c4/34e93fe5f5429d7570ec1fa436f1986fb1f00c3e0f43a589fe2bbcd22c3f/pytz-2025.2-py2.py3-none-any.whl (509 kB)\n",
      "\u001b[2K     \u001b[90m━━━━━━━━━━━━━━━━━━━━━━━━━━━━━━━━━━━━━━\u001b[0m \u001b[32m509.2/509.2 kB\u001b[0m \u001b[31m10.9 MB/s\u001b[0m eta \u001b[36m0:00:00\u001b[0ma \u001b[36m0:00:01\u001b[0m\n",
      "\u001b[?25hCollecting tzdata>=2022.7 (from pandas==2.2.3)\n",
      "  Downloading http://mirrors.aliyun.com/pypi/packages/5c/23/c7abc0ca0a1526a0774eca151daeb8de62ec457e77262b66b359c3c7679e/tzdata-2025.2-py2.py3-none-any.whl (347 kB)\n",
      "\u001b[2K     \u001b[90m━━━━━━━━━━━━━━━━━━━━━━━━━━━━━━━━━━━━━━\u001b[0m \u001b[32m347.8/347.8 kB\u001b[0m \u001b[31m13.1 MB/s\u001b[0m eta \u001b[36m0:00:00\u001b[0m\n",
      "\u001b[?25hRequirement already satisfied: six>=1.5 in ./miniconda3/lib/python3.12/site-packages (from python-dateutil>=2.8.2->pandas==2.2.3) (1.16.0)\n",
      "Installing collected packages: pytz, tzdata, pandas\n",
      "Successfully installed pandas-2.2.3 pytz-2025.2 tzdata-2025.2\n",
      "\u001b[33mWARNING: Running pip as the 'root' user can result in broken permissions and conflicting behaviour with the system package manager. It is recommended to use a virtual environment instead: https://pip.pypa.io/warnings/venv\u001b[0m\u001b[33m\n",
      "\u001b[0mNote: you may need to restart the kernel to use updated packages.\n"
     ]
    }
   ],
   "source": [
    "pip install pandas==2.2.3"
   ]
  },
  {
   "cell_type": "code",
   "execution_count": 4,
   "id": "22a0f38e-ecad-4aba-b05d-3474598c166a",
   "metadata": {},
   "outputs": [
    {
     "name": "stdout",
     "output_type": "stream",
     "text": [
      "Looking in indexes: http://mirrors.aliyun.com/pypi/simple\n",
      "Collecting scikit-learn==1.5.2\n",
      "  Downloading http://mirrors.aliyun.com/pypi/packages/c6/29/044048c5e911373827c0e1d3051321b9183b2a4f8d4e2f11c08fcff83f13/scikit_learn-1.5.2-cp312-cp312-manylinux_2_17_x86_64.manylinux2014_x86_64.whl (12.9 MB)\n",
      "\u001b[2K     \u001b[90m━━━━━━━━━━━━━━━━━━━━━━━━━━━━━━━━━━━━━━━━\u001b[0m \u001b[32m12.9/12.9 MB\u001b[0m \u001b[31m10.6 MB/s\u001b[0m eta \u001b[36m0:00:00\u001b[0m00:01\u001b[0m00:01\u001b[0m\n",
      "\u001b[?25hRequirement already satisfied: numpy>=1.19.5 in ./miniconda3/lib/python3.12/site-packages (from scikit-learn==1.5.2) (1.26.4)\n",
      "Collecting scipy>=1.6.0 (from scikit-learn==1.5.2)\n",
      "  Downloading http://mirrors.aliyun.com/pypi/packages/c0/53/eaada1a414c026673eb983f8b4a55fe5eb172725d33d62c1b21f63ff6ca4/scipy-1.15.2-cp312-cp312-manylinux_2_17_x86_64.manylinux2014_x86_64.whl (37.3 MB)\n",
      "\u001b[2K     \u001b[90m━━━━━━━━━━━━━━━━━━━━━━━━━━━━━━━━━━━━━━━━\u001b[0m \u001b[32m37.3/37.3 MB\u001b[0m \u001b[31m10.0 MB/s\u001b[0m eta \u001b[36m0:00:00\u001b[0m00:01\u001b[0m00:01\u001b[0m\n",
      "\u001b[?25hCollecting joblib>=1.2.0 (from scikit-learn==1.5.2)\n",
      "  Downloading http://mirrors.aliyun.com/pypi/packages/da/d3/13ee227a148af1c693654932b8b0b02ed64af5e1f7406d56b088b57574cd/joblib-1.5.0-py3-none-any.whl (307 kB)\n",
      "\u001b[2K     \u001b[90m━━━━━━━━━━━━━━━━━━━━━━━━━━━━━━━━━━━━━━\u001b[0m \u001b[32m307.7/307.7 kB\u001b[0m \u001b[31m13.2 MB/s\u001b[0m eta \u001b[36m0:00:00\u001b[0m\n",
      "\u001b[?25hCollecting threadpoolctl>=3.1.0 (from scikit-learn==1.5.2)\n",
      "  Downloading http://mirrors.aliyun.com/pypi/packages/32/d5/f9a850d79b0851d1d4ef6456097579a9005b31fea68726a4ae5f2d82ddd9/threadpoolctl-3.6.0-py3-none-any.whl (18 kB)\n",
      "Installing collected packages: threadpoolctl, scipy, joblib, scikit-learn\n",
      "Successfully installed joblib-1.5.0 scikit-learn-1.5.2 scipy-1.15.2 threadpoolctl-3.6.0\n",
      "\u001b[33mWARNING: Running pip as the 'root' user can result in broken permissions and conflicting behaviour with the system package manager. It is recommended to use a virtual environment instead: https://pip.pypa.io/warnings/venv\u001b[0m\u001b[33m\n",
      "\u001b[0mNote: you may need to restart the kernel to use updated packages.\n"
     ]
    }
   ],
   "source": [
    "pip install scikit-learn==1.5.2"
   ]
  },
  {
   "cell_type": "code",
   "execution_count": 5,
   "id": "d50d3be4-3f36-4e9a-861d-3f3e6077dcdc",
   "metadata": {},
   "outputs": [
    {
     "name": "stdout",
     "output_type": "stream",
     "text": [
      "Looking in indexes: http://mirrors.aliyun.com/pypi/simple\n",
      "Collecting torch_geometric==2.6.0\n",
      "  Downloading http://mirrors.aliyun.com/pypi/packages/fc/14/569e932645bd0d91ba792287ce9a5a910b190d76295f28f4281f13633476/torch_geometric-2.6.0-py3-none-any.whl (1.1 MB)\n",
      "\u001b[2K     \u001b[90m━━━━━━━━━━━━━━━━━━━━━━━━━━━━━━━━━━━━━━━━\u001b[0m \u001b[32m1.1/1.1 MB\u001b[0m \u001b[31m5.7 MB/s\u001b[0m eta \u001b[36m0:00:00\u001b[0m00:01\u001b[0m00:01\u001b[0m\n",
      "\u001b[?25hCollecting aiohttp (from torch_geometric==2.6.0)\n",
      "  Downloading http://mirrors.aliyun.com/pypi/packages/23/06/4203ffa2beb5bedb07f0da0f79b7d9039d1c33f522e0d1a2d5b6218e6f2e/aiohttp-3.11.18-cp312-cp312-manylinux_2_17_x86_64.manylinux2014_x86_64.whl (1.7 MB)\n",
      "\u001b[2K     \u001b[90m━━━━━━━━━━━━━━━━━━━━━━━━━━━━━━━━━━━━━━━━\u001b[0m \u001b[32m1.7/1.7 MB\u001b[0m \u001b[31m11.0 MB/s\u001b[0m eta \u001b[36m0:00:00\u001b[0ma \u001b[36m0:00:01\u001b[0m\n",
      "\u001b[?25hRequirement already satisfied: fsspec in ./miniconda3/lib/python3.12/site-packages (from torch_geometric==2.6.0) (2024.5.0)\n",
      "Requirement already satisfied: jinja2 in ./miniconda3/lib/python3.12/site-packages (from torch_geometric==2.6.0) (3.1.4)\n",
      "Requirement already satisfied: numpy in ./miniconda3/lib/python3.12/site-packages (from torch_geometric==2.6.0) (1.26.4)\n",
      "Requirement already satisfied: psutil>=5.8.0 in ./miniconda3/lib/python3.12/site-packages (from torch_geometric==2.6.0) (5.9.8)\n",
      "Requirement already satisfied: pyparsing in ./miniconda3/lib/python3.12/site-packages (from torch_geometric==2.6.0) (3.1.2)\n",
      "Requirement already satisfied: requests in ./miniconda3/lib/python3.12/site-packages (from torch_geometric==2.6.0) (2.31.0)\n",
      "Requirement already satisfied: tqdm in ./miniconda3/lib/python3.12/site-packages (from torch_geometric==2.6.0) (4.66.2)\n",
      "Collecting aiohappyeyeballs>=2.3.0 (from aiohttp->torch_geometric==2.6.0)\n",
      "  Downloading http://mirrors.aliyun.com/pypi/packages/0f/15/5bf3b99495fb160b63f95972b81750f18f7f4e02ad051373b669d17d44f2/aiohappyeyeballs-2.6.1-py3-none-any.whl (15 kB)\n",
      "Collecting aiosignal>=1.1.2 (from aiohttp->torch_geometric==2.6.0)\n",
      "  Downloading http://mirrors.aliyun.com/pypi/packages/ec/6a/bc7e17a3e87a2985d3e8f4da4cd0f481060eb78fb08596c42be62c90a4d9/aiosignal-1.3.2-py2.py3-none-any.whl (7.6 kB)\n",
      "Requirement already satisfied: attrs>=17.3.0 in ./miniconda3/lib/python3.12/site-packages (from aiohttp->torch_geometric==2.6.0) (23.2.0)\n",
      "Collecting frozenlist>=1.1.1 (from aiohttp->torch_geometric==2.6.0)\n",
      "  Downloading http://mirrors.aliyun.com/pypi/packages/2b/a6/564ecde55ee633270a793999ef4fd1d2c2b32b5a7eec903b1012cb7c5143/frozenlist-1.6.0-cp312-cp312-manylinux_2_5_x86_64.manylinux1_x86_64.manylinux_2_17_x86_64.manylinux2014_x86_64.whl (316 kB)\n",
      "\u001b[2K     \u001b[90m━━━━━━━━━━━━━━━━━━━━━━━━━━━━━━━━━━━━━━\u001b[0m \u001b[32m316.2/316.2 kB\u001b[0m \u001b[31m12.3 MB/s\u001b[0m eta \u001b[36m0:00:00\u001b[0m\n",
      "\u001b[?25hCollecting multidict<7.0,>=4.5 (from aiohttp->torch_geometric==2.6.0)\n",
      "  Downloading http://mirrors.aliyun.com/pypi/packages/f0/ac/7ced59dcdfeddd03e601edb05adff0c66d81ed4a5160c443e44f2379eef0/multidict-6.4.3-cp312-cp312-manylinux_2_17_x86_64.manylinux2014_x86_64.whl (223 kB)\n",
      "\u001b[2K     \u001b[90m━━━━━━━━━━━━━━━━━━━━━━━━━━━━━━━━━━━━━━\u001b[0m \u001b[32m223.5/223.5 kB\u001b[0m \u001b[31m16.7 MB/s\u001b[0m eta \u001b[36m0:00:00\u001b[0m\n",
      "\u001b[?25hCollecting propcache>=0.2.0 (from aiohttp->torch_geometric==2.6.0)\n",
      "  Downloading http://mirrors.aliyun.com/pypi/packages/3b/4c/f72c9e1022b3b043ec7dc475a0f405d4c3e10b9b1d378a7330fecf0652da/propcache-0.3.1-cp312-cp312-manylinux_2_17_x86_64.manylinux2014_x86_64.whl (245 kB)\n",
      "\u001b[2K     \u001b[90m━━━━━━━━━━━━━━━━━━━━━━━━━━━━━━━━━━━━━━\u001b[0m \u001b[32m245.0/245.0 kB\u001b[0m \u001b[31m18.1 MB/s\u001b[0m eta \u001b[36m0:00:00\u001b[0m\n",
      "\u001b[?25hCollecting yarl<2.0,>=1.17.0 (from aiohttp->torch_geometric==2.6.0)\n",
      "  Downloading http://mirrors.aliyun.com/pypi/packages/15/45/212604d3142d84b4065d5f8cab6582ed3d78e4cc250568ef2a36fe1cf0a5/yarl-1.20.0-cp312-cp312-manylinux_2_17_x86_64.manylinux2014_x86_64.whl (349 kB)\n",
      "\u001b[2K     \u001b[90m━━━━━━━━━━━━━━━━━━━━━━━━━━━━━━━━━━━━━━━\u001b[0m \u001b[32m349.2/349.2 kB\u001b[0m \u001b[31m6.3 MB/s\u001b[0m eta \u001b[36m0:00:00\u001b[0m00:01\u001b[0m\n",
      "\u001b[?25hRequirement already satisfied: MarkupSafe>=2.0 in ./miniconda3/lib/python3.12/site-packages (from jinja2->torch_geometric==2.6.0) (2.1.5)\n",
      "Requirement already satisfied: charset-normalizer<4,>=2 in ./miniconda3/lib/python3.12/site-packages (from requests->torch_geometric==2.6.0) (2.0.4)\n",
      "Requirement already satisfied: idna<4,>=2.5 in ./miniconda3/lib/python3.12/site-packages (from requests->torch_geometric==2.6.0) (3.7)\n",
      "Requirement already satisfied: urllib3<3,>=1.21.1 in ./miniconda3/lib/python3.12/site-packages (from requests->torch_geometric==2.6.0) (2.1.0)\n",
      "Requirement already satisfied: certifi>=2017.4.17 in ./miniconda3/lib/python3.12/site-packages (from requests->torch_geometric==2.6.0) (2024.2.2)\n",
      "Installing collected packages: propcache, multidict, frozenlist, aiohappyeyeballs, yarl, aiosignal, aiohttp, torch_geometric\n",
      "Successfully installed aiohappyeyeballs-2.6.1 aiohttp-3.11.18 aiosignal-1.3.2 frozenlist-1.6.0 multidict-6.4.3 propcache-0.3.1 torch_geometric-2.6.0 yarl-1.20.0\n",
      "\u001b[33mWARNING: Running pip as the 'root' user can result in broken permissions and conflicting behaviour with the system package manager. It is recommended to use a virtual environment instead: https://pip.pypa.io/warnings/venv\u001b[0m\u001b[33m\n",
      "\u001b[0mNote: you may need to restart the kernel to use updated packages.\n"
     ]
    }
   ],
   "source": [
    "pip install torch_geometric==2.6.0"
   ]
  },
  {
   "cell_type": "code",
   "execution_count": 6,
   "id": "5075babe-cebe-43d5-8135-90927f7845bf",
   "metadata": {},
   "outputs": [
    {
     "name": "stdout",
     "output_type": "stream",
     "text": [
      "Looking in indexes: http://mirrors.aliyun.com/pypi/simple\n",
      "Looking in links: https://data.pyg.org/whl/torch-2.3.0+cu121.html\n",
      "Collecting pyg_lib\n",
      "  Downloading https://data.pyg.org/whl/torch-2.3.0%2Bcu121/pyg_lib-0.4.0%2Bpt23cu121-cp312-cp312-linux_x86_64.whl (2.5 MB)\n",
      "\u001b[2K     \u001b[90m━━━━━━━━━━━━━━━━━━━━━━━━━━━━━━━━━━━━━━━━\u001b[0m \u001b[32m2.5/2.5 MB\u001b[0m \u001b[31m6.1 MB/s\u001b[0m eta \u001b[36m0:00:00\u001b[0ma \u001b[36m0:00:01\u001b[0m0m\n",
      "\u001b[?25hCollecting torch_scatter\n",
      "  Downloading https://data.pyg.org/whl/torch-2.3.0%2Bcu121/torch_scatter-2.1.2%2Bpt23cu121-cp312-cp312-linux_x86_64.whl (10.9 MB)\n",
      "\u001b[2K     \u001b[90m━━━━━━━━━━━━━━━━━━━━━━━━━━━━━━━━━━━━━━━━\u001b[0m \u001b[32m10.9/10.9 MB\u001b[0m \u001b[31m43.1 MB/s\u001b[0m eta \u001b[36m0:00:00\u001b[0m \u001b[36m0:00:01\u001b[0m\n",
      "\u001b[?25hCollecting torch_sparse\n",
      "  Downloading https://data.pyg.org/whl/torch-2.3.0%2Bcu121/torch_sparse-0.6.18%2Bpt23cu121-cp312-cp312-linux_x86_64.whl (5.1 MB)\n",
      "\u001b[2K     \u001b[90m━━━━━━━━━━━━━━━━━━━━━━━━━━━━━━━━━━━━━━━━\u001b[0m \u001b[32m5.1/5.1 MB\u001b[0m \u001b[31m57.3 MB/s\u001b[0m eta \u001b[36m0:00:00\u001b[0ma \u001b[36m0:00:01\u001b[0mm\n",
      "\u001b[?25hCollecting torch_cluster\n",
      "  Downloading https://data.pyg.org/whl/torch-2.3.0%2Bcu121/torch_cluster-1.6.3%2Bpt23cu121-cp312-cp312-linux_x86_64.whl (3.4 MB)\n",
      "\u001b[2K     \u001b[90m━━━━━━━━━━━━━━━━━━━━━━━━━━━━━━━━━━━━━━━━\u001b[0m \u001b[32m3.4/3.4 MB\u001b[0m \u001b[31m41.9 MB/s\u001b[0m eta \u001b[36m0:00:00\u001b[0m00:01\u001b[0m:00:01\u001b[0m\n",
      "\u001b[?25hCollecting torch_spline_conv\n",
      "  Downloading https://data.pyg.org/whl/torch-2.3.0%2Bcu121/torch_spline_conv-1.2.2%2Bpt23cu121-cp312-cp312-linux_x86_64.whl (949 kB)\n",
      "\u001b[2K     \u001b[90m━━━━━━━━━━━━━━━━━━━━━━━━━━━━━━━━━━━━━━━\u001b[0m \u001b[32m949.6/949.6 kB\u001b[0m \u001b[31m6.4 MB/s\u001b[0m eta \u001b[36m0:00:00\u001b[0m00:01\u001b[0m\n",
      "\u001b[?25hRequirement already satisfied: scipy in ./miniconda3/lib/python3.12/site-packages (from torch_sparse) (1.15.2)\n",
      "Requirement already satisfied: numpy<2.5,>=1.23.5 in ./miniconda3/lib/python3.12/site-packages (from scipy->torch_sparse) (1.26.4)\n",
      "Installing collected packages: torch_spline_conv, torch_scatter, pyg_lib, torch_sparse, torch_cluster\n",
      "Successfully installed pyg_lib-0.4.0+pt23cu121 torch_cluster-1.6.3+pt23cu121 torch_scatter-2.1.2+pt23cu121 torch_sparse-0.6.18+pt23cu121 torch_spline_conv-1.2.2+pt23cu121\n",
      "\u001b[33mWARNING: Running pip as the 'root' user can result in broken permissions and conflicting behaviour with the system package manager. It is recommended to use a virtual environment instead: https://pip.pypa.io/warnings/venv\u001b[0m\u001b[33m\n",
      "\u001b[0mNote: you may need to restart the kernel to use updated packages.\n"
     ]
    }
   ],
   "source": [
    "pip install pyg_lib torch_scatter torch_sparse torch_cluster torch_spline_conv -f https://data.pyg.org/whl/torch-2.3.0+cu121.html"
   ]
  },
  {
   "cell_type": "code",
   "execution_count": 7,
   "id": "c8d6441b-1a87-4e04-a54e-e9c449c78b43",
   "metadata": {},
   "outputs": [
    {
     "name": "stdout",
     "output_type": "stream",
     "text": [
      "Looking in indexes: http://mirrors.aliyun.com/pypi/simple\n",
      "Collecting scanpy==1.10.3\n",
      "  Downloading http://mirrors.aliyun.com/pypi/packages/23/8d/9325c37cf2cd9f88b70561eacbaae18f60ca143331369bc2abd0c0f34b7a/scanpy-1.10.3-py3-none-any.whl (2.1 MB)\n",
      "\u001b[2K     \u001b[90m━━━━━━━━━━━━━━━━━━━━━━━━━━━━━━━━━━━━━━━━\u001b[0m \u001b[32m2.1/2.1 MB\u001b[0m \u001b[31m6.8 MB/s\u001b[0m eta \u001b[36m0:00:00\u001b[0ma \u001b[36m0:00:01\u001b[0m\n",
      "\u001b[?25hCollecting anndata>=0.8 (from scanpy==1.10.3)\n",
      "  Downloading http://mirrors.aliyun.com/pypi/packages/0a/4b/ab615fea52e34579d5c6c7dba86b4f9d7f3cdb6a170b348ec49f34cf4355/anndata-0.11.4-py3-none-any.whl (144 kB)\n",
      "\u001b[2K     \u001b[90m━━━━━━━━━━━━━━━━━━━━━━━━━━━━━━━━━━━━━━\u001b[0m \u001b[32m144.5/144.5 kB\u001b[0m \u001b[31m14.9 MB/s\u001b[0m eta \u001b[36m0:00:00\u001b[0m\n",
      "\u001b[?25hCollecting h5py>=3.1 (from scanpy==1.10.3)\n",
      "  Downloading http://mirrors.aliyun.com/pypi/packages/a7/da/3c137006ff5f0433f0fb076b1ebe4a7bf7b5ee1e8811b5486af98b500dd5/h5py-3.13.0-cp312-cp312-manylinux_2_17_x86_64.manylinux2014_x86_64.whl (4.9 MB)\n",
      "\u001b[2K     \u001b[90m━━━━━━━━━━━━━━━━━━━━━━━━━━━━━━━━━━━━━━━━\u001b[0m \u001b[32m4.9/4.9 MB\u001b[0m \u001b[31m9.4 MB/s\u001b[0m eta \u001b[36m0:00:00\u001b[0ma \u001b[36m0:00:01\u001b[0m\n",
      "\u001b[?25hRequirement already satisfied: joblib in ./miniconda3/lib/python3.12/site-packages (from scanpy==1.10.3) (1.5.0)\n",
      "Collecting legacy-api-wrap>=1.4 (from scanpy==1.10.3)\n",
      "  Downloading http://mirrors.aliyun.com/pypi/packages/3c/1d/9324c70629dfe4395f9122ab331cf245d3cce6ded851aa8a0a8ae264c4e6/legacy_api_wrap-1.4.1-py3-none-any.whl (10.0 kB)\n",
      "Requirement already satisfied: matplotlib>=3.6 in ./miniconda3/lib/python3.12/site-packages (from scanpy==1.10.3) (3.9.0)\n",
      "Collecting natsort (from scanpy==1.10.3)\n",
      "  Downloading http://mirrors.aliyun.com/pypi/packages/ef/82/7a9d0550484a62c6da82858ee9419f3dd1ccc9aa1c26a1e43da3ecd20b0d/natsort-8.4.0-py3-none-any.whl (38 kB)\n",
      "Requirement already satisfied: networkx>=2.7 in ./miniconda3/lib/python3.12/site-packages (from scanpy==1.10.3) (3.3)\n",
      "Collecting numba>=0.56 (from scanpy==1.10.3)\n",
      "  Downloading http://mirrors.aliyun.com/pypi/packages/9a/2d/e518df036feab381c23a624dac47f8445ac55686ec7f11083655eb707da3/numba-0.61.2-cp312-cp312-manylinux2014_x86_64.manylinux_2_17_x86_64.whl (3.9 MB)\n",
      "\u001b[2K     \u001b[90m━━━━━━━━━━━━━━━━━━━━━━━━━━━━━━━━━━━━━━━━\u001b[0m \u001b[32m3.9/3.9 MB\u001b[0m \u001b[31m9.1 MB/s\u001b[0m eta \u001b[36m0:00:00\u001b[0ma \u001b[36m0:00:01\u001b[0mm\n",
      "\u001b[?25hRequirement already satisfied: numpy>=1.23 in ./miniconda3/lib/python3.12/site-packages (from scanpy==1.10.3) (1.26.4)\n",
      "Requirement already satisfied: packaging>=21.3 in ./miniconda3/lib/python3.12/site-packages (from scanpy==1.10.3) (23.2)\n",
      "Requirement already satisfied: pandas>=1.5 in ./miniconda3/lib/python3.12/site-packages (from scanpy==1.10.3) (2.2.3)\n",
      "Collecting patsy (from scanpy==1.10.3)\n",
      "  Downloading http://mirrors.aliyun.com/pypi/packages/87/2b/b50d3d08ea0fc419c183a84210571eba005328efa62b6b98bc28e9ead32a/patsy-1.0.1-py2.py3-none-any.whl (232 kB)\n",
      "\u001b[2K     \u001b[90m━━━━━━━━━━━━━━━━━━━━━━━━━━━━━━━━━━━━━━\u001b[0m \u001b[32m232.9/232.9 kB\u001b[0m \u001b[31m10.5 MB/s\u001b[0m eta \u001b[36m0:00:00\u001b[0m\n",
      "\u001b[?25hCollecting pynndescent>=0.5 (from scanpy==1.10.3)\n",
      "  Downloading http://mirrors.aliyun.com/pypi/packages/d2/53/d23a97e0a2c690d40b165d1062e2c4ccc796be458a1ce59f6ba030434663/pynndescent-0.5.13-py3-none-any.whl (56 kB)\n",
      "\u001b[2K     \u001b[90m━━━━━━━━━━━━━━━━━━━━━━━━━━━━━━━━━━━━━━━━\u001b[0m \u001b[32m56.9/56.9 kB\u001b[0m \u001b[31m25.9 MB/s\u001b[0m eta \u001b[36m0:00:00\u001b[0m\n",
      "\u001b[?25hRequirement already satisfied: scikit-learn>=0.24 in ./miniconda3/lib/python3.12/site-packages (from scanpy==1.10.3) (1.5.2)\n",
      "Requirement already satisfied: scipy>=1.8 in ./miniconda3/lib/python3.12/site-packages (from scanpy==1.10.3) (1.15.2)\n",
      "Collecting seaborn>=0.13 (from scanpy==1.10.3)\n",
      "  Downloading http://mirrors.aliyun.com/pypi/packages/83/11/00d3c3dfc25ad54e731d91449895a79e4bf2384dc3ac01809010ba88f6d5/seaborn-0.13.2-py3-none-any.whl (294 kB)\n",
      "\u001b[2K     \u001b[90m━━━━━━━━━━━━━━━━━━━━━━━━━━━━━━━━━━━━━━\u001b[0m \u001b[32m294.9/294.9 kB\u001b[0m \u001b[31m13.8 MB/s\u001b[0m eta \u001b[36m0:00:00\u001b[0m\n",
      "\u001b[?25hCollecting session-info (from scanpy==1.10.3)\n",
      "  Downloading http://mirrors.aliyun.com/pypi/packages/c5/c4/f6b7c0ec5241a2bde90c7ba1eca6ba44f8488bcedafe9072c79593015ec0/session_info-1.0.1-py3-none-any.whl (9.1 kB)\n",
      "Collecting statsmodels>=0.13 (from scanpy==1.10.3)\n",
      "  Downloading http://mirrors.aliyun.com/pypi/packages/fa/e1/60a652f18996a40a7410aeb7eb476c18da8a39792c7effe67f06883e9852/statsmodels-0.14.4-cp312-cp312-manylinux_2_17_x86_64.manylinux2014_x86_64.whl (10.7 MB)\n",
      "\u001b[2K     \u001b[90m━━━━━━━━━━━━━━━━━━━━━━━━━━━━━━━━━━━━━━━━\u001b[0m \u001b[32m10.7/10.7 MB\u001b[0m \u001b[31m9.3 MB/s\u001b[0m eta \u001b[36m0:00:00\u001b[0m00:01\u001b[0m00:01\u001b[0m\n",
      "\u001b[?25hRequirement already satisfied: tqdm in ./miniconda3/lib/python3.12/site-packages (from scanpy==1.10.3) (4.66.2)\n",
      "Collecting umap-learn!=0.5.0,>=0.5 (from scanpy==1.10.3)\n",
      "  Downloading http://mirrors.aliyun.com/pypi/packages/3c/8f/671c0e1f2572ba625cbcc1faeba9435e00330c3d6962858711445cf1e817/umap_learn-0.5.7-py3-none-any.whl (88 kB)\n",
      "\u001b[2K     \u001b[90m━━━━━━━━━━━━━━━━━━━━━━━━━━━━━━━━━━━━━━━━\u001b[0m \u001b[32m88.8/88.8 kB\u001b[0m \u001b[31m3.2 MB/s\u001b[0m eta \u001b[36m0:00:00\u001b[0m\n",
      "\u001b[?25hCollecting array-api-compat!=1.5,>1.4 (from anndata>=0.8->scanpy==1.10.3)\n",
      "  Downloading http://mirrors.aliyun.com/pypi/packages/9f/d8/3388c7da49f522e51ab2f919797db28782216cadc9ecc9976160302cfcd6/array_api_compat-1.11.2-py3-none-any.whl (53 kB)\n",
      "\u001b[2K     \u001b[90m━━━━━━━━━━━━━━━━━━━━━━━━━━━━━━━━━━━━━━━━\u001b[0m \u001b[32m53.1/53.1 kB\u001b[0m \u001b[31m23.7 MB/s\u001b[0m eta \u001b[36m0:00:00\u001b[0m\n",
      "\u001b[?25hCollecting packaging>=21.3 (from scanpy==1.10.3)\n",
      "  Downloading http://mirrors.aliyun.com/pypi/packages/20/12/38679034af332785aac8774540895e234f4d07f7545804097de4b666afd8/packaging-25.0-py3-none-any.whl (66 kB)\n",
      "\u001b[2K     \u001b[90m━━━━━━━━━━━━━━━━━━━━━━━━━━━━━━━━━━━━━━━━\u001b[0m \u001b[32m66.5/66.5 kB\u001b[0m \u001b[31m28.2 MB/s\u001b[0m eta \u001b[36m0:00:00\u001b[0m\n",
      "\u001b[?25hRequirement already satisfied: contourpy>=1.0.1 in ./miniconda3/lib/python3.12/site-packages (from matplotlib>=3.6->scanpy==1.10.3) (1.2.1)\n",
      "Requirement already satisfied: cycler>=0.10 in ./miniconda3/lib/python3.12/site-packages (from matplotlib>=3.6->scanpy==1.10.3) (0.12.1)\n",
      "Requirement already satisfied: fonttools>=4.22.0 in ./miniconda3/lib/python3.12/site-packages (from matplotlib>=3.6->scanpy==1.10.3) (4.53.0)\n",
      "Requirement already satisfied: kiwisolver>=1.3.1 in ./miniconda3/lib/python3.12/site-packages (from matplotlib>=3.6->scanpy==1.10.3) (1.4.5)\n",
      "Requirement already satisfied: pillow>=8 in ./miniconda3/lib/python3.12/site-packages (from matplotlib>=3.6->scanpy==1.10.3) (10.3.0)\n",
      "Requirement already satisfied: pyparsing>=2.3.1 in ./miniconda3/lib/python3.12/site-packages (from matplotlib>=3.6->scanpy==1.10.3) (3.1.2)\n",
      "Requirement already satisfied: python-dateutil>=2.7 in ./miniconda3/lib/python3.12/site-packages (from matplotlib>=3.6->scanpy==1.10.3) (2.9.0.post0)\n",
      "Collecting llvmlite<0.45,>=0.44.0dev0 (from numba>=0.56->scanpy==1.10.3)\n",
      "  Downloading http://mirrors.aliyun.com/pypi/packages/cb/da/8341fd3056419441286c8e26bf436923021005ece0bff5f41906476ae514/llvmlite-0.44.0-cp312-cp312-manylinux_2_17_x86_64.manylinux2014_x86_64.whl (42.4 MB)\n",
      "\u001b[2K     \u001b[90m━━━━━━━━━━━━━━━━━━━━━━━━━━━━━━━━━━━━━━━━\u001b[0m \u001b[32m42.4/42.4 MB\u001b[0m \u001b[31m9.0 MB/s\u001b[0m eta \u001b[36m0:00:00\u001b[0m00:01\u001b[0m00:01\u001b[0mm\n",
      "\u001b[?25hRequirement already satisfied: pytz>=2020.1 in ./miniconda3/lib/python3.12/site-packages (from pandas>=1.5->scanpy==1.10.3) (2025.2)\n",
      "Requirement already satisfied: tzdata>=2022.7 in ./miniconda3/lib/python3.12/site-packages (from pandas>=1.5->scanpy==1.10.3) (2025.2)\n",
      "Requirement already satisfied: threadpoolctl>=3.1.0 in ./miniconda3/lib/python3.12/site-packages (from scikit-learn>=0.24->scanpy==1.10.3) (3.6.0)\n",
      "Collecting stdlib_list (from session-info->scanpy==1.10.3)\n",
      "  Downloading http://mirrors.aliyun.com/pypi/packages/88/c7/4102536de33c19d090ed2b04e90e7452e2e3dc653cf3323208034eaaca27/stdlib_list-0.11.1-py3-none-any.whl (83 kB)\n",
      "\u001b[2K     \u001b[90m━━━━━━━━━━━━━━━━━━━━━━━━━━━━━━━━━━━━━━━━\u001b[0m \u001b[32m83.6/83.6 kB\u001b[0m \u001b[31m36.8 MB/s\u001b[0m eta \u001b[36m0:00:00\u001b[0m\n",
      "\u001b[?25hRequirement already satisfied: six>=1.5 in ./miniconda3/lib/python3.12/site-packages (from python-dateutil>=2.7->matplotlib>=3.6->scanpy==1.10.3) (1.16.0)\n",
      "Installing collected packages: stdlib_list, patsy, packaging, natsort, llvmlite, legacy-api-wrap, h5py, array-api-compat, session-info, numba, statsmodels, seaborn, pynndescent, anndata, umap-learn, scanpy\n",
      "  Attempting uninstall: packaging\n",
      "    Found existing installation: packaging 23.2\n",
      "    Uninstalling packaging-23.2:\n",
      "      Successfully uninstalled packaging-23.2\n",
      "Successfully installed anndata-0.11.4 array-api-compat-1.11.2 h5py-3.13.0 legacy-api-wrap-1.4.1 llvmlite-0.44.0 natsort-8.4.0 numba-0.61.2 packaging-25.0 patsy-1.0.1 pynndescent-0.5.13 scanpy-1.10.3 seaborn-0.13.2 session-info-1.0.1 statsmodels-0.14.4 stdlib_list-0.11.1 umap-learn-0.5.7\n",
      "\u001b[33mWARNING: Running pip as the 'root' user can result in broken permissions and conflicting behaviour with the system package manager. It is recommended to use a virtual environment instead: https://pip.pypa.io/warnings/venv\u001b[0m\u001b[33m\n",
      "\u001b[0mNote: you may need to restart the kernel to use updated packages.\n"
     ]
    }
   ],
   "source": [
    "pip install scanpy==1.10.3"
   ]
  },
  {
   "cell_type": "code",
   "execution_count": 8,
   "id": "f1c47953-01de-4bc1-8340-c8e8812ca780",
   "metadata": {},
   "outputs": [
    {
     "name": "stdout",
     "output_type": "stream",
     "text": [
      "Looking in indexes: http://mirrors.aliyun.com/pypi/simple\n",
      "Collecting munkres==1.1.4\n",
      "  Downloading http://mirrors.aliyun.com/pypi/packages/90/ab/0301c945a704218bc9435f0e3c88884f6b19ef234d8899fb47ce1ccfd0c9/munkres-1.1.4-py2.py3-none-any.whl (7.0 kB)\n",
      "Installing collected packages: munkres\n",
      "Successfully installed munkres-1.1.4\n",
      "\u001b[33mWARNING: Running pip as the 'root' user can result in broken permissions and conflicting behaviour with the system package manager. It is recommended to use a virtual environment instead: https://pip.pypa.io/warnings/venv\u001b[0m\u001b[33m\n",
      "\u001b[0mNote: you may need to restart the kernel to use updated packages.\n"
     ]
    }
   ],
   "source": [
    "pip install munkres==1.1.4"
   ]
  },
  {
   "cell_type": "code",
   "execution_count": 9,
   "id": "ff59d540-21bd-44ac-b5d2-f0230f641e61",
   "metadata": {},
   "outputs": [
    {
     "name": "stdout",
     "output_type": "stream",
     "text": [
      "Looking in indexes: http://mirrors.aliyun.com/pypi/simple\n",
      "Looking in links: https://data.dgl.ai/wheels/torch-2.3/cu121/repo.html\n",
      "Collecting dgl\n",
      "  Downloading https://data.dgl.ai/wheels/torch-2.3/cu121/dgl-2.4.0%2Bcu121-cp312-cp312-manylinux1_x86_64.whl (355.1 MB)\n",
      "\u001b[2K     \u001b[90m━━━━━━━━━━━━━━━━━━━━━━━━━━━━━━━━━━━━━━\u001b[0m \u001b[32m355.1/355.1 MB\u001b[0m \u001b[31m11.6 MB/s\u001b[0m eta \u001b[36m0:00:00\u001b[0m00:01\u001b[0m00:01\u001b[0m\n",
      "\u001b[?25hRequirement already satisfied: networkx>=2.1 in ./miniconda3/lib/python3.12/site-packages (from dgl) (3.3)\n",
      "Requirement already satisfied: numpy>=1.14.0 in ./miniconda3/lib/python3.12/site-packages (from dgl) (1.26.4)\n",
      "Requirement already satisfied: packaging in ./miniconda3/lib/python3.12/site-packages (from dgl) (25.0)\n",
      "Requirement already satisfied: pandas in ./miniconda3/lib/python3.12/site-packages (from dgl) (2.2.3)\n",
      "Requirement already satisfied: psutil>=5.8.0 in ./miniconda3/lib/python3.12/site-packages (from dgl) (5.9.8)\n",
      "Collecting pydantic>=2.0 (from dgl)\n",
      "  Downloading http://mirrors.aliyun.com/pypi/packages/e7/12/46b65f3534d099349e38ef6ec98b1a5a81f42536d17e0ba382c28c67ba67/pydantic-2.11.4-py3-none-any.whl (443 kB)\n",
      "\u001b[2K     \u001b[90m━━━━━━━━━━━━━━━━━━━━━━━━━━━━━━━━━━━━━━\u001b[0m \u001b[32m443.9/443.9 kB\u001b[0m \u001b[31m10.6 MB/s\u001b[0m eta \u001b[36m0:00:00\u001b[0ma \u001b[36m0:00:01\u001b[0m\n",
      "\u001b[?25hRequirement already satisfied: pyyaml in ./miniconda3/lib/python3.12/site-packages (from dgl) (6.0.1)\n",
      "Requirement already satisfied: requests>=2.19.0 in ./miniconda3/lib/python3.12/site-packages (from dgl) (2.31.0)\n",
      "Requirement already satisfied: scipy>=1.1.0 in ./miniconda3/lib/python3.12/site-packages (from dgl) (1.15.2)\n",
      "Requirement already satisfied: tqdm in ./miniconda3/lib/python3.12/site-packages (from dgl) (4.66.2)\n",
      "Requirement already satisfied: torch<=2.4.0 in ./miniconda3/lib/python3.12/site-packages (from dgl) (2.3.0+cu121)\n",
      "Collecting annotated-types>=0.6.0 (from pydantic>=2.0->dgl)\n",
      "  Downloading http://mirrors.aliyun.com/pypi/packages/78/b6/6307fbef88d9b5ee7421e68d78a9f162e0da4900bc5f5793f6d3d0e34fb8/annotated_types-0.7.0-py3-none-any.whl (13 kB)\n",
      "Collecting pydantic-core==2.33.2 (from pydantic>=2.0->dgl)\n",
      "  Downloading http://mirrors.aliyun.com/pypi/packages/f9/41/4b043778cf9c4285d59742281a769eac371b9e47e35f98ad321349cc5d61/pydantic_core-2.33.2-cp312-cp312-manylinux_2_17_x86_64.manylinux2014_x86_64.whl (2.0 MB)\n",
      "\u001b[2K     \u001b[90m━━━━━━━━━━━━━━━━━━━━━━━━━━━━━━━━━━━━━━━━\u001b[0m \u001b[32m2.0/2.0 MB\u001b[0m \u001b[31m9.6 MB/s\u001b[0m eta \u001b[36m0:00:00\u001b[0m:00:01\u001b[0m00:01\u001b[0m\n",
      "\u001b[?25hCollecting typing-extensions>=4.12.2 (from pydantic>=2.0->dgl)\n",
      "  Downloading http://mirrors.aliyun.com/pypi/packages/8b/54/b1ae86c0973cc6f0210b53d508ca3641fb6d0c56823f288d108bc7ab3cc8/typing_extensions-4.13.2-py3-none-any.whl (45 kB)\n",
      "\u001b[2K     \u001b[90m━━━━━━━━━━━━━━━━━━━━━━━━━━━━━━━━━━━━━━━━\u001b[0m \u001b[32m45.8/45.8 kB\u001b[0m \u001b[31m20.7 MB/s\u001b[0m eta \u001b[36m0:00:00\u001b[0m\n",
      "\u001b[?25hCollecting typing-inspection>=0.4.0 (from pydantic>=2.0->dgl)\n",
      "  Downloading http://mirrors.aliyun.com/pypi/packages/31/08/aa4fdfb71f7de5176385bd9e90852eaf6b5d622735020ad600f2bab54385/typing_inspection-0.4.0-py3-none-any.whl (14 kB)\n",
      "Requirement already satisfied: charset-normalizer<4,>=2 in ./miniconda3/lib/python3.12/site-packages (from requests>=2.19.0->dgl) (2.0.4)\n",
      "Requirement already satisfied: idna<4,>=2.5 in ./miniconda3/lib/python3.12/site-packages (from requests>=2.19.0->dgl) (3.7)\n",
      "Requirement already satisfied: urllib3<3,>=1.21.1 in ./miniconda3/lib/python3.12/site-packages (from requests>=2.19.0->dgl) (2.1.0)\n",
      "Requirement already satisfied: certifi>=2017.4.17 in ./miniconda3/lib/python3.12/site-packages (from requests>=2.19.0->dgl) (2024.2.2)\n",
      "Requirement already satisfied: filelock in ./miniconda3/lib/python3.12/site-packages (from torch<=2.4.0->dgl) (3.14.0)\n",
      "Requirement already satisfied: sympy in ./miniconda3/lib/python3.12/site-packages (from torch<=2.4.0->dgl) (1.12.1)\n",
      "Requirement already satisfied: jinja2 in ./miniconda3/lib/python3.12/site-packages (from torch<=2.4.0->dgl) (3.1.4)\n",
      "Requirement already satisfied: fsspec in ./miniconda3/lib/python3.12/site-packages (from torch<=2.4.0->dgl) (2024.5.0)\n",
      "Requirement already satisfied: nvidia-cuda-nvrtc-cu12==12.1.105 in ./miniconda3/lib/python3.12/site-packages (from torch<=2.4.0->dgl) (12.1.105)\n",
      "Requirement already satisfied: nvidia-cuda-runtime-cu12==12.1.105 in ./miniconda3/lib/python3.12/site-packages (from torch<=2.4.0->dgl) (12.1.105)\n",
      "Requirement already satisfied: nvidia-cuda-cupti-cu12==12.1.105 in ./miniconda3/lib/python3.12/site-packages (from torch<=2.4.0->dgl) (12.1.105)\n",
      "Requirement already satisfied: nvidia-cudnn-cu12==8.9.2.26 in ./miniconda3/lib/python3.12/site-packages (from torch<=2.4.0->dgl) (8.9.2.26)\n",
      "Requirement already satisfied: nvidia-cublas-cu12==12.1.3.1 in ./miniconda3/lib/python3.12/site-packages (from torch<=2.4.0->dgl) (12.1.3.1)\n",
      "Requirement already satisfied: nvidia-cufft-cu12==11.0.2.54 in ./miniconda3/lib/python3.12/site-packages (from torch<=2.4.0->dgl) (11.0.2.54)\n",
      "Requirement already satisfied: nvidia-curand-cu12==10.3.2.106 in ./miniconda3/lib/python3.12/site-packages (from torch<=2.4.0->dgl) (10.3.2.106)\n",
      "Requirement already satisfied: nvidia-cusolver-cu12==11.4.5.107 in ./miniconda3/lib/python3.12/site-packages (from torch<=2.4.0->dgl) (11.4.5.107)\n",
      "Requirement already satisfied: nvidia-cusparse-cu12==12.1.0.106 in ./miniconda3/lib/python3.12/site-packages (from torch<=2.4.0->dgl) (12.1.0.106)\n",
      "Requirement already satisfied: nvidia-nccl-cu12==2.20.5 in ./miniconda3/lib/python3.12/site-packages (from torch<=2.4.0->dgl) (2.20.5)\n",
      "Requirement already satisfied: nvidia-nvtx-cu12==12.1.105 in ./miniconda3/lib/python3.12/site-packages (from torch<=2.4.0->dgl) (12.1.105)\n",
      "Requirement already satisfied: nvidia-nvjitlink-cu12 in ./miniconda3/lib/python3.12/site-packages (from nvidia-cusolver-cu12==11.4.5.107->torch<=2.4.0->dgl) (12.5.40)\n",
      "Requirement already satisfied: python-dateutil>=2.8.2 in ./miniconda3/lib/python3.12/site-packages (from pandas->dgl) (2.9.0.post0)\n",
      "Requirement already satisfied: pytz>=2020.1 in ./miniconda3/lib/python3.12/site-packages (from pandas->dgl) (2025.2)\n",
      "Requirement already satisfied: tzdata>=2022.7 in ./miniconda3/lib/python3.12/site-packages (from pandas->dgl) (2025.2)\n",
      "Requirement already satisfied: six>=1.5 in ./miniconda3/lib/python3.12/site-packages (from python-dateutil>=2.8.2->pandas->dgl) (1.16.0)\n",
      "Requirement already satisfied: MarkupSafe>=2.0 in ./miniconda3/lib/python3.12/site-packages (from jinja2->torch<=2.4.0->dgl) (2.1.5)\n",
      "Requirement already satisfied: mpmath<1.4.0,>=1.1.0 in ./miniconda3/lib/python3.12/site-packages (from sympy->torch<=2.4.0->dgl) (1.3.0)\n",
      "Installing collected packages: typing-extensions, annotated-types, typing-inspection, pydantic-core, pydantic, dgl\n",
      "  Attempting uninstall: typing-extensions\n",
      "    Found existing installation: typing_extensions 4.12.1\n",
      "    Uninstalling typing_extensions-4.12.1:\n",
      "      Successfully uninstalled typing_extensions-4.12.1\n",
      "Successfully installed annotated-types-0.7.0 dgl-2.4.0+cu121 pydantic-2.11.4 pydantic-core-2.33.2 typing-extensions-4.13.2 typing-inspection-0.4.0\n",
      "\u001b[33mWARNING: Running pip as the 'root' user can result in broken permissions and conflicting behaviour with the system package manager. It is recommended to use a virtual environment instead: https://pip.pypa.io/warnings/venv\u001b[0m\u001b[33m\n",
      "\u001b[0mNote: you may need to restart the kernel to use updated packages.\n"
     ]
    }
   ],
   "source": [
    "pip install dgl -f https://data.dgl.ai/wheels/torch-2.3/cu121/repo.html"
   ]
  },
  {
   "cell_type": "code",
   "execution_count": 10,
   "id": "95234fe2-baaf-4cc9-ac17-8c36ea2575cf",
   "metadata": {},
   "outputs": [
    {
     "name": "stdout",
     "output_type": "stream",
     "text": [
      "Looking in indexes: http://mirrors.aliyun.com/pypi/simple\n",
      "Collecting h5py==3.11.0\n",
      "  Downloading http://mirrors.aliyun.com/pypi/packages/db/7e/fedac8bb8c4729409e2dec5e4136a289116d701d54f69ce73c5617afc5f0/h5py-3.11.0-cp312-cp312-manylinux_2_17_x86_64.manylinux2014_x86_64.whl (5.4 MB)\n",
      "\u001b[2K     \u001b[90m━━━━━━━━━━━━━━━━━━━━━━━━━━━━━━━━━━━━━━━━\u001b[0m \u001b[32m5.4/5.4 MB\u001b[0m \u001b[31m9.0 MB/s\u001b[0m eta \u001b[36m0:00:00\u001b[0m00:01\u001b[0m00:01\u001b[0m\n",
      "\u001b[?25hRequirement already satisfied: numpy>=1.17.3 in ./miniconda3/lib/python3.12/site-packages (from h5py==3.11.0) (1.26.4)\n",
      "Installing collected packages: h5py\n",
      "  Attempting uninstall: h5py\n",
      "    Found existing installation: h5py 3.13.0\n",
      "    Uninstalling h5py-3.13.0:\n",
      "      Successfully uninstalled h5py-3.13.0\n",
      "Successfully installed h5py-3.11.0\n",
      "\u001b[33mWARNING: Running pip as the 'root' user can result in broken permissions and conflicting behaviour with the system package manager. It is recommended to use a virtual environment instead: https://pip.pypa.io/warnings/venv\u001b[0m\u001b[33m\n",
      "\u001b[0mNote: you may need to restart the kernel to use updated packages.\n"
     ]
    }
   ],
   "source": [
    "pip install h5py==3.11.0"
   ]
  },
  {
   "cell_type": "code",
   "execution_count": 11,
   "id": "62fcaeab-ff2a-47f7-8421-8c1a8c129646",
   "metadata": {},
   "outputs": [
    {
     "name": "stdout",
     "output_type": "stream",
     "text": [
      "Looking in indexes: http://mirrors.aliyun.com/pypi/simple\n",
      "Collecting igraph==0.11.8\n",
      "  Downloading http://mirrors.aliyun.com/pypi/packages/90/61/ec7edb5233ec2dc3d2129d94211801fb46a1c2b9beec40989707c82271f7/igraph-0.11.8-cp39-abi3-manylinux_2_17_x86_64.manylinux2014_x86_64.whl (3.1 MB)\n",
      "\u001b[2K     \u001b[90m━━━━━━━━━━━━━━━━━━━━━━━━━━━━━━━━━━━━━━━━\u001b[0m \u001b[32m3.1/3.1 MB\u001b[0m \u001b[31m10.4 MB/s\u001b[0m eta \u001b[36m0:00:00\u001b[0ma \u001b[36m0:00:01\u001b[0m\n",
      "\u001b[?25hCollecting texttable>=1.6.2 (from igraph==0.11.8)\n",
      "  Downloading http://mirrors.aliyun.com/pypi/packages/24/99/4772b8e00a136f3e01236de33b0efda31ee7077203ba5967fcc76da94d65/texttable-1.7.0-py2.py3-none-any.whl (10 kB)\n",
      "Installing collected packages: texttable, igraph\n",
      "Successfully installed igraph-0.11.8 texttable-1.7.0\n",
      "\u001b[33mWARNING: Running pip as the 'root' user can result in broken permissions and conflicting behaviour with the system package manager. It is recommended to use a virtual environment instead: https://pip.pypa.io/warnings/venv\u001b[0m\u001b[33m\n",
      "\u001b[0mNote: you may need to restart the kernel to use updated packages.\n"
     ]
    }
   ],
   "source": [
    "pip install igraph==0.11.8"
   ]
  },
  {
   "cell_type": "code",
   "execution_count": 12,
   "id": "9819f167-bff0-483c-9934-b4eb418d504b",
   "metadata": {},
   "outputs": [
    {
     "name": "stderr",
     "output_type": "stream",
     "text": [
      "/root/miniconda3/lib/python3.12/site-packages/anndata/utils.py:434: FutureWarning: Importing read_csv from `anndata` is deprecated. Import anndata.io.read_csv instead.\n",
      "  warnings.warn(msg, FutureWarning)\n",
      "/root/miniconda3/lib/python3.12/site-packages/anndata/utils.py:434: FutureWarning: Importing read_excel from `anndata` is deprecated. Import anndata.io.read_excel instead.\n",
      "  warnings.warn(msg, FutureWarning)\n",
      "/root/miniconda3/lib/python3.12/site-packages/anndata/utils.py:434: FutureWarning: Importing read_hdf from `anndata` is deprecated. Import anndata.io.read_hdf instead.\n",
      "  warnings.warn(msg, FutureWarning)\n",
      "/root/miniconda3/lib/python3.12/site-packages/anndata/utils.py:434: FutureWarning: Importing read_loom from `anndata` is deprecated. Import anndata.io.read_loom instead.\n",
      "  warnings.warn(msg, FutureWarning)\n",
      "/root/miniconda3/lib/python3.12/site-packages/anndata/utils.py:434: FutureWarning: Importing read_mtx from `anndata` is deprecated. Import anndata.io.read_mtx instead.\n",
      "  warnings.warn(msg, FutureWarning)\n",
      "/root/miniconda3/lib/python3.12/site-packages/anndata/utils.py:434: FutureWarning: Importing read_text from `anndata` is deprecated. Import anndata.io.read_text instead.\n",
      "  warnings.warn(msg, FutureWarning)\n",
      "/root/miniconda3/lib/python3.12/site-packages/anndata/utils.py:434: FutureWarning: Importing read_umi_tools from `anndata` is deprecated. Import anndata.io.read_umi_tools instead.\n",
      "  warnings.warn(msg, FutureWarning)\n",
      "DGL backend not selected or invalid.  Assuming PyTorch for now.\n"
     ]
    },
    {
     "name": "stdout",
     "output_type": "stream",
     "text": [
      "Setting the default backend to \"pytorch\". You can change it in the ~/.dgl/config.json file or export the DGLBACKEND environment variable.  Valid options are: pytorch, mxnet, tensorflow (all lowercase)\n"
     ]
    },
    {
     "name": "stderr",
     "output_type": "stream",
     "text": [
      "/root/miniconda3/lib/python3.12/site-packages/numba/np/ufunc/parallel.py:371: NumbaWarning: The TBB threading layer requires TBB version 2021 update 6 or later i.e., TBB_INTERFACE_VERSION >= 12060. Found TBB_INTERFACE_VERSION = 12050. The TBB threading layer is disabled.\n",
      "  warnings.warn(problem)\n",
      "Epoch 1/500: 100%|██████████| 9/9 [00:00<00:00, 15.79it/s]\n",
      "Epoch 2/500: 100%|██████████| 9/9 [00:00<00:00, 64.08it/s]\n",
      "Epoch 3/500: 100%|██████████| 9/9 [00:00<00:00, 63.59it/s]\n",
      "Epoch 4/500: 100%|██████████| 9/9 [00:00<00:00, 61.25it/s]\n",
      "Epoch 5/500: 100%|██████████| 9/9 [00:00<00:00, 63.03it/s]\n",
      "Epoch 6/500: 100%|██████████| 9/9 [00:00<00:00, 64.54it/s]\n",
      "Epoch 7/500: 100%|██████████| 9/9 [00:00<00:00, 64.36it/s]\n",
      "Epoch 8/500: 100%|██████████| 9/9 [00:00<00:00, 64.02it/s]\n",
      "Epoch 9/500: 100%|██████████| 9/9 [00:00<00:00, 65.80it/s]\n",
      "Epoch 10/500: 100%|██████████| 9/9 [00:00<00:00, 65.65it/s]\n"
     ]
    },
    {
     "name": "stdout",
     "output_type": "stream",
     "text": [
      "Epoch 10/500, Loss: 1.7460\n",
      "Epoch 10/500, Instance Loss: 1.8113\n",
      "Epoch 10/500, Cluster Loss: 1.6808\n",
      "current best epoch: 10\n"
     ]
    },
    {
     "name": "stderr",
     "output_type": "stream",
     "text": [
      "Epoch 11/500: 100%|██████████| 9/9 [00:00<00:00, 66.56it/s]\n",
      "Epoch 12/500: 100%|██████████| 9/9 [00:00<00:00, 65.98it/s]\n",
      "Epoch 13/500: 100%|██████████| 9/9 [00:00<00:00, 65.20it/s]\n",
      "Epoch 14/500: 100%|██████████| 9/9 [00:00<00:00, 69.66it/s]\n",
      "Epoch 15/500: 100%|██████████| 9/9 [00:00<00:00, 65.65it/s]\n",
      "Epoch 16/500: 100%|██████████| 9/9 [00:00<00:00, 66.60it/s]\n",
      "Epoch 17/500: 100%|██████████| 9/9 [00:00<00:00, 66.80it/s]\n",
      "Epoch 18/500: 100%|██████████| 9/9 [00:00<00:00, 67.14it/s]\n",
      "Epoch 19/500: 100%|██████████| 9/9 [00:00<00:00, 66.42it/s]\n",
      "Epoch 20/500: 100%|██████████| 9/9 [00:00<00:00, 66.13it/s]\n"
     ]
    },
    {
     "name": "stdout",
     "output_type": "stream",
     "text": [
      "Epoch 20/500, Loss: 1.6602\n",
      "Epoch 20/500, Instance Loss: 1.7185\n",
      "Epoch 20/500, Cluster Loss: 1.6020\n",
      "current best epoch: 20\n"
     ]
    },
    {
     "name": "stderr",
     "output_type": "stream",
     "text": [
      "Epoch 21/500: 100%|██████████| 9/9 [00:00<00:00, 65.53it/s]\n",
      "Epoch 22/500: 100%|██████████| 9/9 [00:00<00:00, 66.22it/s]\n",
      "Epoch 23/500: 100%|██████████| 9/9 [00:00<00:00, 65.95it/s]\n",
      "Epoch 24/500: 100%|██████████| 9/9 [00:00<00:00, 67.05it/s]\n",
      "Epoch 25/500: 100%|██████████| 9/9 [00:00<00:00, 67.29it/s]\n",
      "Epoch 26/500: 100%|██████████| 9/9 [00:00<00:00, 67.89it/s]\n",
      "Epoch 27/500: 100%|██████████| 9/9 [00:00<00:00, 67.54it/s]\n",
      "Epoch 28/500: 100%|██████████| 9/9 [00:00<00:00, 66.73it/s]\n",
      "Epoch 29/500: 100%|██████████| 9/9 [00:00<00:00, 67.33it/s]\n",
      "Epoch 30/500: 100%|██████████| 9/9 [00:00<00:00, 67.43it/s]\n"
     ]
    },
    {
     "name": "stdout",
     "output_type": "stream",
     "text": [
      "Epoch 30/500, Loss: 1.6219\n",
      "Epoch 30/500, Instance Loss: 1.6760\n",
      "Epoch 30/500, Cluster Loss: 1.5678\n",
      "current best epoch: 30\n"
     ]
    },
    {
     "name": "stderr",
     "output_type": "stream",
     "text": [
      "Epoch 31/500: 100%|██████████| 9/9 [00:00<00:00, 67.21it/s]\n",
      "Epoch 32/500: 100%|██████████| 9/9 [00:00<00:00, 67.46it/s]\n",
      "Epoch 33/500: 100%|██████████| 9/9 [00:00<00:00, 67.30it/s]\n",
      "Epoch 34/500: 100%|██████████| 9/9 [00:00<00:00, 62.93it/s]\n",
      "Epoch 35/500: 100%|██████████| 9/9 [00:00<00:00, 64.15it/s]\n",
      "Epoch 36/500: 100%|██████████| 9/9 [00:00<00:00, 64.80it/s]\n",
      "Epoch 37/500: 100%|██████████| 9/9 [00:00<00:00, 63.11it/s]\n",
      "Epoch 38/500: 100%|██████████| 9/9 [00:00<00:00, 64.04it/s]\n",
      "Epoch 39/500: 100%|██████████| 9/9 [00:00<00:00, 64.47it/s]\n",
      "Epoch 40/500: 100%|██████████| 9/9 [00:00<00:00, 63.77it/s]\n"
     ]
    },
    {
     "name": "stdout",
     "output_type": "stream",
     "text": [
      "Epoch 40/500, Loss: 1.5992\n",
      "Epoch 40/500, Instance Loss: 1.6503\n",
      "Epoch 40/500, Cluster Loss: 1.5482\n",
      "current best epoch: 40\n"
     ]
    },
    {
     "name": "stderr",
     "output_type": "stream",
     "text": [
      "Epoch 41/500: 100%|██████████| 9/9 [00:00<00:00, 63.93it/s]\n",
      "Epoch 42/500: 100%|██████████| 9/9 [00:00<00:00, 64.05it/s]\n",
      "Epoch 43/500: 100%|██████████| 9/9 [00:00<00:00, 64.39it/s]\n",
      "Epoch 44/500: 100%|██████████| 9/9 [00:00<00:00, 63.83it/s]\n",
      "Epoch 45/500: 100%|██████████| 9/9 [00:00<00:00, 63.24it/s]\n",
      "Epoch 46/500: 100%|██████████| 9/9 [00:00<00:00, 66.70it/s]\n",
      "Epoch 47/500: 100%|██████████| 9/9 [00:00<00:00, 65.93it/s]\n",
      "Epoch 48/500: 100%|██████████| 9/9 [00:00<00:00, 62.50it/s]\n",
      "Epoch 49/500: 100%|██████████| 9/9 [00:00<00:00, 63.72it/s]\n",
      "Epoch 50/500: 100%|██████████| 9/9 [00:00<00:00, 65.36it/s]\n"
     ]
    },
    {
     "name": "stdout",
     "output_type": "stream",
     "text": [
      "Epoch 50/500, Loss: 1.5853\n",
      "Epoch 50/500, Instance Loss: 1.6332\n",
      "Epoch 50/500, Cluster Loss: 1.5374\n",
      "current best epoch: 50\n"
     ]
    },
    {
     "name": "stderr",
     "output_type": "stream",
     "text": [
      "Epoch 51/500: 100%|██████████| 9/9 [00:00<00:00, 64.67it/s]\n",
      "Epoch 52/500: 100%|██████████| 9/9 [00:00<00:00, 61.04it/s]\n",
      "Epoch 53/500: 100%|██████████| 9/9 [00:00<00:00, 73.39it/s]\n",
      "Epoch 54/500: 100%|██████████| 9/9 [00:00<00:00, 68.52it/s]\n",
      "Epoch 55/500: 100%|██████████| 9/9 [00:00<00:00, 64.86it/s]\n",
      "Epoch 56/500: 100%|██████████| 9/9 [00:00<00:00, 65.60it/s]\n",
      "Epoch 57/500: 100%|██████████| 9/9 [00:00<00:00, 65.44it/s]\n",
      "Epoch 58/500: 100%|██████████| 9/9 [00:00<00:00, 65.56it/s]\n",
      "Epoch 59/500: 100%|██████████| 9/9 [00:00<00:00, 64.72it/s]\n",
      "Epoch 60/500: 100%|██████████| 9/9 [00:00<00:00, 63.73it/s]\n"
     ]
    },
    {
     "name": "stdout",
     "output_type": "stream",
     "text": [
      "Epoch 60/500, Loss: 1.5723\n",
      "Epoch 60/500, Instance Loss: 1.6177\n",
      "Epoch 60/500, Cluster Loss: 1.5269\n",
      "current best epoch: 60\n"
     ]
    },
    {
     "name": "stderr",
     "output_type": "stream",
     "text": [
      "Epoch 61/500: 100%|██████████| 9/9 [00:00<00:00, 64.51it/s]\n",
      "Epoch 62/500: 100%|██████████| 9/9 [00:00<00:00, 63.07it/s]\n",
      "Epoch 63/500: 100%|██████████| 9/9 [00:00<00:00, 72.95it/s]\n",
      "Epoch 64/500: 100%|██████████| 9/9 [00:00<00:00, 68.25it/s]\n",
      "Epoch 65/500: 100%|██████████| 9/9 [00:00<00:00, 65.14it/s]\n",
      "Epoch 66/500: 100%|██████████| 9/9 [00:00<00:00, 65.51it/s]\n",
      "Epoch 67/500: 100%|██████████| 9/9 [00:00<00:00, 61.70it/s]\n",
      "Epoch 68/500: 100%|██████████| 9/9 [00:00<00:00, 59.31it/s]\n",
      "Epoch 69/500: 100%|██████████| 9/9 [00:00<00:00, 62.91it/s]\n",
      "Epoch 70/500: 100%|██████████| 9/9 [00:00<00:00, 65.55it/s]\n"
     ]
    },
    {
     "name": "stdout",
     "output_type": "stream",
     "text": [
      "Epoch 70/500, Loss: 1.5613\n",
      "Epoch 70/500, Instance Loss: 1.6057\n",
      "Epoch 70/500, Cluster Loss: 1.5168\n",
      "current best epoch: 70\n"
     ]
    },
    {
     "name": "stderr",
     "output_type": "stream",
     "text": [
      "Epoch 71/500: 100%|██████████| 9/9 [00:00<00:00, 60.17it/s]\n",
      "Epoch 72/500: 100%|██████████| 9/9 [00:00<00:00, 58.53it/s]\n",
      "Epoch 73/500: 100%|██████████| 9/9 [00:00<00:00, 53.76it/s]\n",
      "Epoch 74/500: 100%|██████████| 9/9 [00:00<00:00, 54.95it/s]\n",
      "Epoch 75/500: 100%|██████████| 9/9 [00:00<00:00, 44.76it/s]\n",
      "Epoch 76/500: 100%|██████████| 9/9 [00:00<00:00, 43.25it/s]\n",
      "Epoch 77/500: 100%|██████████| 9/9 [00:00<00:00, 42.37it/s]\n",
      "Epoch 78/500: 100%|██████████| 9/9 [00:00<00:00, 44.46it/s]\n",
      "Epoch 79/500: 100%|██████████| 9/9 [00:00<00:00, 52.29it/s]\n",
      "Epoch 80/500: 100%|██████████| 9/9 [00:00<00:00, 48.90it/s]\n"
     ]
    },
    {
     "name": "stdout",
     "output_type": "stream",
     "text": [
      "Epoch 80/500, Loss: 1.5525\n",
      "Epoch 80/500, Instance Loss: 1.5959\n",
      "Epoch 80/500, Cluster Loss: 1.5091\n",
      "current best epoch: 80\n"
     ]
    },
    {
     "name": "stderr",
     "output_type": "stream",
     "text": [
      "Epoch 81/500: 100%|██████████| 9/9 [00:00<00:00, 56.47it/s]\n",
      "Epoch 82/500: 100%|██████████| 9/9 [00:00<00:00, 63.45it/s]\n",
      "Epoch 83/500: 100%|██████████| 9/9 [00:00<00:00, 63.83it/s]\n",
      "Epoch 84/500: 100%|██████████| 9/9 [00:00<00:00, 64.18it/s]\n",
      "Epoch 85/500: 100%|██████████| 9/9 [00:00<00:00, 62.62it/s]\n",
      "Epoch 86/500: 100%|██████████| 9/9 [00:00<00:00, 63.08it/s]\n",
      "Epoch 87/500: 100%|██████████| 9/9 [00:00<00:00, 62.62it/s]\n",
      "Epoch 88/500: 100%|██████████| 9/9 [00:00<00:00, 63.15it/s]\n",
      "Epoch 89/500: 100%|██████████| 9/9 [00:00<00:00, 63.67it/s]\n",
      "Epoch 90/500: 100%|██████████| 9/9 [00:00<00:00, 66.88it/s]\n"
     ]
    },
    {
     "name": "stdout",
     "output_type": "stream",
     "text": [
      "Epoch 90/500, Loss: 1.5450\n",
      "Epoch 90/500, Instance Loss: 1.5885\n",
      "Epoch 90/500, Cluster Loss: 1.5015\n",
      "current best epoch: 90\n"
     ]
    },
    {
     "name": "stderr",
     "output_type": "stream",
     "text": [
      "Epoch 91/500: 100%|██████████| 9/9 [00:00<00:00, 64.58it/s]\n",
      "Epoch 92/500: 100%|██████████| 9/9 [00:00<00:00, 64.22it/s]\n",
      "Epoch 93/500: 100%|██████████| 9/9 [00:00<00:00, 65.03it/s]\n",
      "Epoch 94/500: 100%|██████████| 9/9 [00:00<00:00, 64.31it/s]\n",
      "Epoch 95/500: 100%|██████████| 9/9 [00:00<00:00, 64.00it/s]\n",
      "Epoch 96/500: 100%|██████████| 9/9 [00:00<00:00, 64.06it/s]\n",
      "Epoch 97/500: 100%|██████████| 9/9 [00:00<00:00, 63.47it/s]\n",
      "Epoch 98/500: 100%|██████████| 9/9 [00:00<00:00, 62.75it/s]\n",
      "Epoch 99/500: 100%|██████████| 9/9 [00:00<00:00, 56.52it/s]\n",
      "Epoch 100/500: 100%|██████████| 9/9 [00:00<00:00, 62.42it/s]\n"
     ]
    },
    {
     "name": "stdout",
     "output_type": "stream",
     "text": [
      "Epoch 100/500, Loss: 1.5390\n",
      "Epoch 100/500, Instance Loss: 1.5824\n",
      "Epoch 100/500, Cluster Loss: 1.4956\n",
      "current best epoch: 100\n"
     ]
    },
    {
     "name": "stderr",
     "output_type": "stream",
     "text": [
      "Epoch 101/500: 100%|██████████| 9/9 [00:00<00:00, 61.45it/s]\n",
      "Epoch 102/500: 100%|██████████| 9/9 [00:00<00:00, 63.46it/s]\n",
      "Epoch 103/500: 100%|██████████| 9/9 [00:00<00:00, 64.22it/s]\n",
      "Epoch 104/500: 100%|██████████| 9/9 [00:00<00:00, 64.54it/s]\n",
      "Epoch 105/500: 100%|██████████| 9/9 [00:00<00:00, 62.84it/s]\n",
      "Epoch 106/500: 100%|██████████| 9/9 [00:00<00:00, 61.97it/s]\n",
      "Epoch 107/500: 100%|██████████| 9/9 [00:00<00:00, 61.64it/s]\n",
      "Epoch 108/500: 100%|██████████| 9/9 [00:00<00:00, 62.02it/s]\n",
      "Epoch 109/500: 100%|██████████| 9/9 [00:00<00:00, 62.06it/s]\n",
      "Epoch 110/500: 100%|██████████| 9/9 [00:00<00:00, 62.37it/s]\n"
     ]
    },
    {
     "name": "stdout",
     "output_type": "stream",
     "text": [
      "Epoch 110/500, Loss: 1.5342\n",
      "Epoch 110/500, Instance Loss: 1.5772\n",
      "Epoch 110/500, Cluster Loss: 1.4913\n",
      "current best epoch: 110\n"
     ]
    },
    {
     "name": "stderr",
     "output_type": "stream",
     "text": [
      "Epoch 111/500: 100%|██████████| 9/9 [00:00<00:00, 62.44it/s]\n",
      "Epoch 112/500: 100%|██████████| 9/9 [00:00<00:00, 63.55it/s]\n",
      "Epoch 113/500: 100%|██████████| 9/9 [00:00<00:00, 63.15it/s]\n",
      "Epoch 114/500: 100%|██████████| 9/9 [00:00<00:00, 63.71it/s]\n",
      "Epoch 115/500: 100%|██████████| 9/9 [00:00<00:00, 63.73it/s]\n",
      "Epoch 116/500: 100%|██████████| 9/9 [00:00<00:00, 61.46it/s]\n",
      "Epoch 117/500: 100%|██████████| 9/9 [00:00<00:00, 63.13it/s]\n",
      "Epoch 118/500: 100%|██████████| 9/9 [00:00<00:00, 61.37it/s]\n",
      "Epoch 119/500: 100%|██████████| 9/9 [00:00<00:00, 61.58it/s]\n",
      "Epoch 120/500: 100%|██████████| 9/9 [00:00<00:00, 67.17it/s]\n"
     ]
    },
    {
     "name": "stdout",
     "output_type": "stream",
     "text": [
      "Epoch 120/500, Loss: 1.5302\n",
      "Epoch 120/500, Instance Loss: 1.5727\n",
      "Epoch 120/500, Cluster Loss: 1.4877\n",
      "current best epoch: 120\n"
     ]
    },
    {
     "name": "stderr",
     "output_type": "stream",
     "text": [
      "Epoch 121/500: 100%|██████████| 9/9 [00:00<00:00, 64.24it/s]\n",
      "Epoch 122/500: 100%|██████████| 9/9 [00:00<00:00, 64.66it/s]\n",
      "Epoch 123/500: 100%|██████████| 9/9 [00:00<00:00, 64.17it/s]\n",
      "Epoch 124/500: 100%|██████████| 9/9 [00:00<00:00, 64.75it/s]\n",
      "Epoch 125/500: 100%|██████████| 9/9 [00:00<00:00, 65.31it/s]\n",
      "Epoch 126/500: 100%|██████████| 9/9 [00:00<00:00, 64.76it/s]\n",
      "Epoch 127/500: 100%|██████████| 9/9 [00:00<00:00, 63.78it/s]\n",
      "Epoch 128/500: 100%|██████████| 9/9 [00:00<00:00, 64.83it/s]\n",
      "Epoch 129/500: 100%|██████████| 9/9 [00:00<00:00, 65.14it/s]\n",
      "Epoch 130/500: 100%|██████████| 9/9 [00:00<00:00, 60.25it/s]\n"
     ]
    },
    {
     "name": "stdout",
     "output_type": "stream",
     "text": [
      "Epoch 130/500, Loss: 1.5263\n",
      "Epoch 130/500, Instance Loss: 1.5685\n",
      "Epoch 130/500, Cluster Loss: 1.4841\n",
      "current best epoch: 130\n"
     ]
    },
    {
     "name": "stderr",
     "output_type": "stream",
     "text": [
      "Epoch 131/500: 100%|██████████| 9/9 [00:00<00:00, 63.00it/s]\n",
      "Epoch 132/500: 100%|██████████| 9/9 [00:00<00:00, 62.32it/s]\n",
      "Epoch 133/500: 100%|██████████| 9/9 [00:00<00:00, 64.57it/s]\n",
      "Epoch 134/500: 100%|██████████| 9/9 [00:00<00:00, 64.63it/s]\n",
      "Epoch 135/500: 100%|██████████| 9/9 [00:00<00:00, 64.36it/s]\n",
      "Epoch 136/500: 100%|██████████| 9/9 [00:00<00:00, 63.83it/s]\n",
      "Epoch 137/500: 100%|██████████| 9/9 [00:00<00:00, 65.33it/s]\n",
      "Epoch 138/500: 100%|██████████| 9/9 [00:00<00:00, 65.49it/s]\n",
      "Epoch 139/500: 100%|██████████| 9/9 [00:00<00:00, 63.65it/s]\n",
      "Epoch 140/500: 100%|██████████| 9/9 [00:00<00:00, 61.23it/s]\n"
     ]
    },
    {
     "name": "stdout",
     "output_type": "stream",
     "text": [
      "Epoch 140/500, Loss: 1.5228\n",
      "Epoch 140/500, Instance Loss: 1.5647\n",
      "Epoch 140/500, Cluster Loss: 1.4809\n",
      "current best epoch: 140\n"
     ]
    },
    {
     "name": "stderr",
     "output_type": "stream",
     "text": [
      "Epoch 141/500: 100%|██████████| 9/9 [00:00<00:00, 72.37it/s]\n",
      "Epoch 142/500: 100%|██████████| 9/9 [00:00<00:00, 65.05it/s]\n",
      "Epoch 143/500: 100%|██████████| 9/9 [00:00<00:00, 65.20it/s]\n",
      "Epoch 144/500: 100%|██████████| 9/9 [00:00<00:00, 64.75it/s]\n",
      "Epoch 145/500: 100%|██████████| 9/9 [00:00<00:00, 65.01it/s]\n",
      "Epoch 146/500: 100%|██████████| 9/9 [00:00<00:00, 64.85it/s]\n",
      "Epoch 147/500: 100%|██████████| 9/9 [00:00<00:00, 64.61it/s]\n",
      "Epoch 148/500: 100%|██████████| 9/9 [00:00<00:00, 65.06it/s]\n",
      "Epoch 149/500: 100%|██████████| 9/9 [00:00<00:00, 64.06it/s]\n",
      "Epoch 150/500: 100%|██████████| 9/9 [00:00<00:00, 63.29it/s]\n"
     ]
    },
    {
     "name": "stdout",
     "output_type": "stream",
     "text": [
      "Epoch 150/500, Loss: 1.5197\n",
      "Epoch 150/500, Instance Loss: 1.5612\n",
      "Epoch 150/500, Cluster Loss: 1.4782\n",
      "current best epoch: 150\n"
     ]
    },
    {
     "name": "stderr",
     "output_type": "stream",
     "text": [
      "Epoch 151/500: 100%|██████████| 9/9 [00:00<00:00, 61.12it/s]\n",
      "Epoch 152/500: 100%|██████████| 9/9 [00:00<00:00, 61.20it/s]\n",
      "Epoch 153/500: 100%|██████████| 9/9 [00:00<00:00, 63.95it/s]\n",
      "Epoch 154/500: 100%|██████████| 9/9 [00:00<00:00, 65.10it/s]\n",
      "Epoch 155/500: 100%|██████████| 9/9 [00:00<00:00, 66.39it/s]\n",
      "Epoch 156/500: 100%|██████████| 9/9 [00:00<00:00, 65.38it/s]\n",
      "Epoch 157/500: 100%|██████████| 9/9 [00:00<00:00, 65.43it/s]\n",
      "Epoch 158/500: 100%|██████████| 9/9 [00:00<00:00, 65.12it/s]\n",
      "Epoch 159/500: 100%|██████████| 9/9 [00:00<00:00, 64.62it/s]\n",
      "Epoch 160/500: 100%|██████████| 9/9 [00:00<00:00, 63.39it/s]\n"
     ]
    },
    {
     "name": "stdout",
     "output_type": "stream",
     "text": [
      "Epoch 160/500, Loss: 1.5168\n",
      "Epoch 160/500, Instance Loss: 1.5581\n",
      "Epoch 160/500, Cluster Loss: 1.4755\n",
      "current best epoch: 160\n"
     ]
    },
    {
     "name": "stderr",
     "output_type": "stream",
     "text": [
      "Epoch 161/500: 100%|██████████| 9/9 [00:00<00:00, 64.26it/s]\n",
      "Epoch 162/500: 100%|██████████| 9/9 [00:00<00:00, 63.14it/s]\n",
      "Epoch 163/500: 100%|██████████| 9/9 [00:00<00:00, 62.52it/s]\n",
      "Epoch 164/500: 100%|██████████| 9/9 [00:00<00:00, 64.14it/s]\n",
      "Epoch 165/500: 100%|██████████| 9/9 [00:00<00:00, 61.87it/s]\n",
      "Epoch 166/500: 100%|██████████| 9/9 [00:00<00:00, 65.57it/s]\n",
      "Epoch 167/500: 100%|██████████| 9/9 [00:00<00:00, 66.05it/s]\n",
      "Epoch 168/500: 100%|██████████| 9/9 [00:00<00:00, 66.24it/s]\n",
      "Epoch 169/500: 100%|██████████| 9/9 [00:00<00:00, 66.13it/s]\n",
      "Epoch 170/500: 100%|██████████| 9/9 [00:00<00:00, 66.59it/s]\n"
     ]
    },
    {
     "name": "stdout",
     "output_type": "stream",
     "text": [
      "Epoch 170/500, Loss: 1.5142\n",
      "Epoch 170/500, Instance Loss: 1.5554\n",
      "Epoch 170/500, Cluster Loss: 1.4730\n",
      "current best epoch: 170\n"
     ]
    },
    {
     "name": "stderr",
     "output_type": "stream",
     "text": [
      "Epoch 171/500: 100%|██████████| 9/9 [00:00<00:00, 63.52it/s]\n",
      "Epoch 172/500: 100%|██████████| 9/9 [00:00<00:00, 65.93it/s]\n",
      "Epoch 173/500: 100%|██████████| 9/9 [00:00<00:00, 63.73it/s]\n",
      "Epoch 174/500: 100%|██████████| 9/9 [00:00<00:00, 65.72it/s]\n",
      "Epoch 175/500: 100%|██████████| 9/9 [00:00<00:00, 65.46it/s]\n",
      "Epoch 176/500: 100%|██████████| 9/9 [00:00<00:00, 64.70it/s]\n",
      "Epoch 177/500: 100%|██████████| 9/9 [00:00<00:00, 64.99it/s]\n",
      "Epoch 178/500: 100%|██████████| 9/9 [00:00<00:00, 64.75it/s]\n",
      "Epoch 179/500: 100%|██████████| 9/9 [00:00<00:00, 67.12it/s]\n",
      "Epoch 180/500: 100%|██████████| 9/9 [00:00<00:00, 67.30it/s]\n"
     ]
    },
    {
     "name": "stdout",
     "output_type": "stream",
     "text": [
      "Epoch 180/500, Loss: 1.5119\n",
      "Epoch 180/500, Instance Loss: 1.5528\n",
      "Epoch 180/500, Cluster Loss: 1.4709\n",
      "current best epoch: 180\n"
     ]
    },
    {
     "name": "stderr",
     "output_type": "stream",
     "text": [
      "Epoch 181/500: 100%|██████████| 9/9 [00:00<00:00, 67.30it/s]\n",
      "Epoch 182/500: 100%|██████████| 9/9 [00:00<00:00, 66.76it/s]\n",
      "Epoch 183/500: 100%|██████████| 9/9 [00:00<00:00, 66.81it/s]\n",
      "Epoch 184/500: 100%|██████████| 9/9 [00:00<00:00, 66.12it/s]\n",
      "Epoch 185/500: 100%|██████████| 9/9 [00:00<00:00, 68.21it/s]\n",
      "Epoch 186/500: 100%|██████████| 9/9 [00:00<00:00, 87.99it/s]\n",
      "Epoch 187/500: 100%|██████████| 9/9 [00:00<00:00, 65.61it/s]\n",
      "Epoch 188/500: 100%|██████████| 9/9 [00:00<00:00, 65.05it/s]\n",
      "Epoch 189/500: 100%|██████████| 9/9 [00:00<00:00, 62.09it/s]\n",
      "Epoch 190/500: 100%|██████████| 9/9 [00:00<00:00, 71.82it/s]\n"
     ]
    },
    {
     "name": "stdout",
     "output_type": "stream",
     "text": [
      "Epoch 190/500, Loss: 1.5098\n",
      "Epoch 190/500, Instance Loss: 1.5508\n",
      "Epoch 190/500, Cluster Loss: 1.4688\n",
      "current best epoch: 190\n"
     ]
    },
    {
     "name": "stderr",
     "output_type": "stream",
     "text": [
      "Epoch 191/500: 100%|██████████| 9/9 [00:00<00:00, 64.87it/s]\n",
      "Epoch 192/500: 100%|██████████| 9/9 [00:00<00:00, 65.02it/s]\n",
      "Epoch 193/500: 100%|██████████| 9/9 [00:00<00:00, 64.89it/s]\n",
      "Epoch 194/500: 100%|██████████| 9/9 [00:00<00:00, 63.87it/s]\n",
      "Epoch 195/500: 100%|██████████| 9/9 [00:00<00:00, 63.79it/s]\n",
      "Epoch 196/500: 100%|██████████| 9/9 [00:00<00:00, 64.53it/s]\n",
      "Epoch 197/500: 100%|██████████| 9/9 [00:00<00:00, 64.75it/s]\n",
      "Epoch 198/500: 100%|██████████| 9/9 [00:00<00:00, 64.95it/s]\n",
      "Epoch 199/500: 100%|██████████| 9/9 [00:00<00:00, 65.16it/s]\n",
      "Epoch 200/500: 100%|██████████| 9/9 [00:00<00:00, 64.96it/s]\n"
     ]
    },
    {
     "name": "stdout",
     "output_type": "stream",
     "text": [
      "Epoch 200/500, Loss: 1.5076\n",
      "Epoch 200/500, Instance Loss: 1.5485\n",
      "Epoch 200/500, Cluster Loss: 1.4668\n",
      "current best epoch: 200\n"
     ]
    },
    {
     "name": "stderr",
     "output_type": "stream",
     "text": [
      "Epoch 201/500: 100%|██████████| 9/9 [00:00<00:00, 65.23it/s]\n",
      "Epoch 202/500: 100%|██████████| 9/9 [00:00<00:00, 63.17it/s]\n",
      "Epoch 203/500: 100%|██████████| 9/9 [00:00<00:00, 64.61it/s]\n",
      "Epoch 204/500: 100%|██████████| 9/9 [00:00<00:00, 63.88it/s]\n",
      "Epoch 205/500: 100%|██████████| 9/9 [00:00<00:00, 64.60it/s]\n",
      "Epoch 206/500: 100%|██████████| 9/9 [00:00<00:00, 64.63it/s]\n",
      "Epoch 207/500: 100%|██████████| 9/9 [00:00<00:00, 62.65it/s]\n",
      "Epoch 208/500: 100%|██████████| 9/9 [00:00<00:00, 64.37it/s]\n",
      "Epoch 209/500: 100%|██████████| 9/9 [00:00<00:00, 64.56it/s]\n",
      "Epoch 210/500: 100%|██████████| 9/9 [00:00<00:00, 63.46it/s]\n"
     ]
    },
    {
     "name": "stdout",
     "output_type": "stream",
     "text": [
      "Epoch 210/500, Loss: 1.5058\n",
      "Epoch 210/500, Instance Loss: 1.5466\n",
      "Epoch 210/500, Cluster Loss: 1.4650\n",
      "current best epoch: 210\n"
     ]
    },
    {
     "name": "stderr",
     "output_type": "stream",
     "text": [
      "Epoch 211/500: 100%|██████████| 9/9 [00:00<00:00, 63.68it/s]\n",
      "Epoch 212/500: 100%|██████████| 9/9 [00:00<00:00, 63.57it/s]\n",
      "Epoch 213/500: 100%|██████████| 9/9 [00:00<00:00, 62.34it/s]\n",
      "Epoch 214/500: 100%|██████████| 9/9 [00:00<00:00, 88.44it/s]\n",
      "Epoch 215/500: 100%|██████████| 9/9 [00:00<00:00, 64.35it/s]\n",
      "Epoch 216/500: 100%|██████████| 9/9 [00:00<00:00, 64.11it/s]\n",
      "Epoch 217/500: 100%|██████████| 9/9 [00:00<00:00, 64.64it/s]\n",
      "Epoch 218/500: 100%|██████████| 9/9 [00:00<00:00, 64.98it/s]\n",
      "Epoch 219/500: 100%|██████████| 9/9 [00:00<00:00, 65.28it/s]\n",
      "Epoch 220/500: 100%|██████████| 9/9 [00:00<00:00, 64.61it/s]\n"
     ]
    },
    {
     "name": "stdout",
     "output_type": "stream",
     "text": [
      "Epoch 220/500, Loss: 1.5037\n",
      "Epoch 220/500, Instance Loss: 1.5445\n",
      "Epoch 220/500, Cluster Loss: 1.4630\n",
      "current best epoch: 220\n"
     ]
    },
    {
     "name": "stderr",
     "output_type": "stream",
     "text": [
      "Epoch 221/500: 100%|██████████| 9/9 [00:00<00:00, 66.36it/s]\n",
      "Epoch 222/500: 100%|██████████| 9/9 [00:00<00:00, 66.49it/s]\n",
      "Epoch 223/500: 100%|██████████| 9/9 [00:00<00:00, 65.11it/s]\n",
      "Epoch 224/500: 100%|██████████| 9/9 [00:00<00:00, 64.99it/s]\n",
      "Epoch 225/500: 100%|██████████| 9/9 [00:00<00:00, 68.81it/s]\n",
      "Epoch 226/500: 100%|██████████| 9/9 [00:00<00:00, 63.87it/s]\n",
      "Epoch 227/500: 100%|██████████| 9/9 [00:00<00:00, 63.46it/s]\n",
      "Epoch 228/500: 100%|██████████| 9/9 [00:00<00:00, 66.43it/s]\n",
      "Epoch 229/500: 100%|██████████| 9/9 [00:00<00:00, 64.57it/s]\n",
      "Epoch 230/500: 100%|██████████| 9/9 [00:00<00:00, 65.27it/s]\n"
     ]
    },
    {
     "name": "stdout",
     "output_type": "stream",
     "text": [
      "Epoch 230/500, Loss: 1.5020\n",
      "Epoch 230/500, Instance Loss: 1.5427\n",
      "Epoch 230/500, Cluster Loss: 1.4613\n",
      "current best epoch: 230\n"
     ]
    },
    {
     "name": "stderr",
     "output_type": "stream",
     "text": [
      "Epoch 231/500: 100%|██████████| 9/9 [00:00<00:00, 66.36it/s]\n",
      "Epoch 232/500: 100%|██████████| 9/9 [00:00<00:00, 65.63it/s]\n",
      "Epoch 233/500: 100%|██████████| 9/9 [00:00<00:00, 64.70it/s]\n",
      "Epoch 234/500: 100%|██████████| 9/9 [00:00<00:00, 65.66it/s]\n",
      "Epoch 235/500: 100%|██████████| 9/9 [00:00<00:00, 66.11it/s]\n",
      "Epoch 236/500: 100%|██████████| 9/9 [00:00<00:00, 64.18it/s]\n",
      "Epoch 237/500: 100%|██████████| 9/9 [00:00<00:00, 64.30it/s]\n",
      "Epoch 238/500: 100%|██████████| 9/9 [00:00<00:00, 63.33it/s]\n",
      "Epoch 239/500: 100%|██████████| 9/9 [00:00<00:00, 65.70it/s]\n",
      "Epoch 240/500: 100%|██████████| 9/9 [00:00<00:00, 66.78it/s]\n"
     ]
    },
    {
     "name": "stdout",
     "output_type": "stream",
     "text": [
      "Epoch 240/500, Loss: 1.5005\n",
      "Epoch 240/500, Instance Loss: 1.5409\n",
      "Epoch 240/500, Cluster Loss: 1.4601\n",
      "current best epoch: 240\n"
     ]
    },
    {
     "name": "stderr",
     "output_type": "stream",
     "text": [
      "Epoch 241/500: 100%|██████████| 9/9 [00:00<00:00, 66.46it/s]\n",
      "Epoch 242/500: 100%|██████████| 9/9 [00:00<00:00, 65.04it/s]\n",
      "Epoch 243/500: 100%|██████████| 9/9 [00:00<00:00, 65.05it/s]\n",
      "Epoch 244/500: 100%|██████████| 9/9 [00:00<00:00, 65.73it/s]\n",
      "Epoch 245/500: 100%|██████████| 9/9 [00:00<00:00, 65.43it/s]\n",
      "Epoch 246/500: 100%|██████████| 9/9 [00:00<00:00, 63.41it/s]\n",
      "Epoch 247/500: 100%|██████████| 9/9 [00:00<00:00, 64.63it/s]\n",
      "Epoch 248/500: 100%|██████████| 9/9 [00:00<00:00, 64.17it/s]\n",
      "Epoch 249/500: 100%|██████████| 9/9 [00:00<00:00, 65.68it/s]\n",
      "Epoch 250/500: 100%|██████████| 9/9 [00:00<00:00, 90.44it/s]\n"
     ]
    },
    {
     "name": "stdout",
     "output_type": "stream",
     "text": [
      "Epoch 250/500, Loss: 1.4990\n",
      "Epoch 250/500, Instance Loss: 1.5392\n",
      "Epoch 250/500, Cluster Loss: 1.4587\n",
      "current best epoch: 250\n"
     ]
    },
    {
     "name": "stderr",
     "output_type": "stream",
     "text": [
      "Epoch 251/500: 100%|██████████| 9/9 [00:00<00:00, 78.13it/s]\n",
      "Epoch 252/500: 100%|██████████| 9/9 [00:00<00:00, 70.12it/s]\n",
      "Epoch 253/500: 100%|██████████| 9/9 [00:00<00:00, 75.13it/s]\n",
      "Epoch 254/500: 100%|██████████| 9/9 [00:00<00:00, 65.71it/s]\n",
      "Epoch 255/500: 100%|██████████| 9/9 [00:00<00:00, 65.84it/s]\n",
      "Epoch 256/500: 100%|██████████| 9/9 [00:00<00:00, 65.45it/s]\n",
      "Epoch 257/500: 100%|██████████| 9/9 [00:00<00:00, 62.09it/s]\n",
      "Epoch 258/500: 100%|██████████| 9/9 [00:00<00:00, 64.36it/s]\n",
      "Epoch 259/500: 100%|██████████| 9/9 [00:00<00:00, 62.71it/s]\n",
      "Epoch 260/500: 100%|██████████| 9/9 [00:00<00:00, 64.36it/s]\n"
     ]
    },
    {
     "name": "stdout",
     "output_type": "stream",
     "text": [
      "Epoch 260/500, Loss: 1.4973\n",
      "Epoch 260/500, Instance Loss: 1.5374\n",
      "Epoch 260/500, Cluster Loss: 1.4573\n",
      "current best epoch: 260\n"
     ]
    },
    {
     "name": "stderr",
     "output_type": "stream",
     "text": [
      "Epoch 261/500: 100%|██████████| 9/9 [00:00<00:00, 65.58it/s]\n",
      "Epoch 262/500: 100%|██████████| 9/9 [00:00<00:00, 65.80it/s]\n",
      "Epoch 263/500: 100%|██████████| 9/9 [00:00<00:00, 64.64it/s]\n",
      "Epoch 264/500: 100%|██████████| 9/9 [00:00<00:00, 65.36it/s]\n",
      "Epoch 265/500: 100%|██████████| 9/9 [00:00<00:00, 65.53it/s]\n",
      "Epoch 266/500: 100%|██████████| 9/9 [00:00<00:00, 66.28it/s]\n",
      "Epoch 267/500: 100%|██████████| 9/9 [00:00<00:00, 66.27it/s]\n",
      "Epoch 268/500: 100%|██████████| 9/9 [00:00<00:00, 67.04it/s]\n",
      "Epoch 269/500: 100%|██████████| 9/9 [00:00<00:00, 64.10it/s]\n",
      "Epoch 270/500: 100%|██████████| 9/9 [00:00<00:00, 63.25it/s]\n"
     ]
    },
    {
     "name": "stdout",
     "output_type": "stream",
     "text": [
      "Epoch 270/500, Loss: 1.4957\n",
      "Epoch 270/500, Instance Loss: 1.5356\n",
      "Epoch 270/500, Cluster Loss: 1.4558\n",
      "current best epoch: 270\n"
     ]
    },
    {
     "name": "stderr",
     "output_type": "stream",
     "text": [
      "Epoch 271/500: 100%|██████████| 9/9 [00:00<00:00, 69.61it/s]\n",
      "Epoch 272/500: 100%|██████████| 9/9 [00:00<00:00, 64.44it/s]\n",
      "Epoch 273/500: 100%|██████████| 9/9 [00:00<00:00, 64.83it/s]\n",
      "Epoch 274/500: 100%|██████████| 9/9 [00:00<00:00, 82.65it/s]\n",
      "Epoch 275/500: 100%|██████████| 9/9 [00:00<00:00, 64.97it/s]\n",
      "Epoch 276/500: 100%|██████████| 9/9 [00:00<00:00, 65.12it/s]\n",
      "Epoch 277/500: 100%|██████████| 9/9 [00:00<00:00, 65.89it/s]\n",
      "Epoch 278/500: 100%|██████████| 9/9 [00:00<00:00, 65.09it/s]\n",
      "Epoch 279/500: 100%|██████████| 9/9 [00:00<00:00, 63.19it/s]\n",
      "Epoch 280/500: 100%|██████████| 9/9 [00:00<00:00, 86.20it/s]\n"
     ]
    },
    {
     "name": "stdout",
     "output_type": "stream",
     "text": [
      "Epoch 280/500, Loss: 1.4944\n",
      "Epoch 280/500, Instance Loss: 1.5342\n",
      "Epoch 280/500, Cluster Loss: 1.4547\n",
      "current best epoch: 280\n"
     ]
    },
    {
     "name": "stderr",
     "output_type": "stream",
     "text": [
      "Epoch 281/500: 100%|██████████| 9/9 [00:00<00:00, 63.41it/s]\n",
      "Epoch 282/500: 100%|██████████| 9/9 [00:00<00:00, 65.03it/s]\n",
      "Epoch 283/500: 100%|██████████| 9/9 [00:00<00:00, 62.33it/s]\n",
      "Epoch 284/500: 100%|██████████| 9/9 [00:00<00:00, 63.20it/s]\n",
      "Epoch 285/500: 100%|██████████| 9/9 [00:00<00:00, 64.35it/s]\n",
      "Epoch 286/500: 100%|██████████| 9/9 [00:00<00:00, 55.67it/s]\n",
      "Epoch 287/500: 100%|██████████| 9/9 [00:00<00:00, 42.77it/s]\n",
      "Epoch 288/500: 100%|██████████| 9/9 [00:00<00:00, 44.54it/s]\n",
      "Epoch 289/500: 100%|██████████| 9/9 [00:00<00:00, 44.42it/s]\n",
      "Epoch 290/500: 100%|██████████| 9/9 [00:00<00:00, 47.06it/s]\n"
     ]
    },
    {
     "name": "stdout",
     "output_type": "stream",
     "text": [
      "Epoch 290/500, Loss: 1.4932\n",
      "Epoch 290/500, Instance Loss: 1.5326\n",
      "Epoch 290/500, Cluster Loss: 1.4538\n",
      "current best epoch: 290\n"
     ]
    },
    {
     "name": "stderr",
     "output_type": "stream",
     "text": [
      "Epoch 291/500: 100%|██████████| 9/9 [00:00<00:00, 45.73it/s]\n",
      "Epoch 292/500: 100%|██████████| 9/9 [00:00<00:00, 46.07it/s]\n",
      "Epoch 293/500: 100%|██████████| 9/9 [00:00<00:00, 44.08it/s]\n",
      "Epoch 294/500: 100%|██████████| 9/9 [00:00<00:00, 57.82it/s]\n",
      "Epoch 295/500: 100%|██████████| 9/9 [00:00<00:00, 58.93it/s]\n",
      "Epoch 296/500: 100%|██████████| 9/9 [00:00<00:00, 59.50it/s]\n",
      "Epoch 297/500: 100%|██████████| 9/9 [00:00<00:00, 57.81it/s]\n",
      "Epoch 298/500: 100%|██████████| 9/9 [00:00<00:00, 58.28it/s]\n",
      "Epoch 299/500: 100%|██████████| 9/9 [00:00<00:00, 60.14it/s]\n",
      "Epoch 300/500: 100%|██████████| 9/9 [00:00<00:00, 59.65it/s]\n"
     ]
    },
    {
     "name": "stdout",
     "output_type": "stream",
     "text": [
      "Epoch 300/500, Loss: 1.4922\n",
      "Epoch 300/500, Instance Loss: 1.5313\n",
      "Epoch 300/500, Cluster Loss: 1.4530\n",
      "current best epoch: 300\n"
     ]
    },
    {
     "name": "stderr",
     "output_type": "stream",
     "text": [
      "Epoch 301/500: 100%|██████████| 9/9 [00:00<00:00, 57.94it/s]\n",
      "Epoch 302/500: 100%|██████████| 9/9 [00:00<00:00, 67.71it/s]\n",
      "Epoch 303/500: 100%|██████████| 9/9 [00:00<00:00, 66.48it/s]\n",
      "Epoch 304/500: 100%|██████████| 9/9 [00:00<00:00, 55.56it/s]\n",
      "Epoch 305/500: 100%|██████████| 9/9 [00:00<00:00, 58.44it/s]\n",
      "Epoch 306/500: 100%|██████████| 9/9 [00:00<00:00, 60.43it/s]\n",
      "Epoch 307/500: 100%|██████████| 9/9 [00:00<00:00, 63.45it/s]\n",
      "Epoch 308/500: 100%|██████████| 9/9 [00:00<00:00, 62.98it/s]\n",
      "Epoch 309/500: 100%|██████████| 9/9 [00:00<00:00, 68.67it/s]\n",
      "Epoch 310/500: 100%|██████████| 9/9 [00:00<00:00, 68.63it/s]\n"
     ]
    },
    {
     "name": "stdout",
     "output_type": "stream",
     "text": [
      "Epoch 310/500, Loss: 1.4910\n",
      "Epoch 310/500, Instance Loss: 1.5300\n",
      "Epoch 310/500, Cluster Loss: 1.4521\n",
      "current best epoch: 310\n"
     ]
    },
    {
     "name": "stderr",
     "output_type": "stream",
     "text": [
      "Epoch 311/500: 100%|██████████| 9/9 [00:00<00:00, 68.67it/s]\n",
      "Epoch 312/500: 100%|██████████| 9/9 [00:00<00:00, 68.32it/s]\n",
      "Epoch 313/500: 100%|██████████| 9/9 [00:00<00:00, 68.37it/s]\n",
      "Epoch 314/500: 100%|██████████| 9/9 [00:00<00:00, 68.04it/s]\n",
      "Epoch 315/500: 100%|██████████| 9/9 [00:00<00:00, 68.18it/s]\n",
      "Epoch 316/500: 100%|██████████| 9/9 [00:00<00:00, 67.62it/s]\n",
      "Epoch 317/500: 100%|██████████| 9/9 [00:00<00:00, 66.05it/s]\n",
      "Epoch 318/500: 100%|██████████| 9/9 [00:00<00:00, 63.43it/s]\n",
      "Epoch 319/500: 100%|██████████| 9/9 [00:00<00:00, 65.03it/s]\n",
      "Epoch 320/500: 100%|██████████| 9/9 [00:00<00:00, 65.89it/s]\n"
     ]
    },
    {
     "name": "stdout",
     "output_type": "stream",
     "text": [
      "Epoch 320/500, Loss: 1.4900\n",
      "Epoch 320/500, Instance Loss: 1.5286\n",
      "Epoch 320/500, Cluster Loss: 1.4513\n",
      "current best epoch: 320\n"
     ]
    },
    {
     "name": "stderr",
     "output_type": "stream",
     "text": [
      "Epoch 321/500: 100%|██████████| 9/9 [00:00<00:00, 65.82it/s]\n",
      "Epoch 322/500: 100%|██████████| 9/9 [00:00<00:00, 66.12it/s]\n",
      "Epoch 323/500: 100%|██████████| 9/9 [00:00<00:00, 65.49it/s]\n",
      "Epoch 324/500: 100%|██████████| 9/9 [00:00<00:00, 65.92it/s]\n",
      "Epoch 325/500: 100%|██████████| 9/9 [00:00<00:00, 64.60it/s]\n",
      "Epoch 326/500: 100%|██████████| 9/9 [00:00<00:00, 65.27it/s]\n",
      "Epoch 327/500: 100%|██████████| 9/9 [00:00<00:00, 65.39it/s]\n",
      "Epoch 328/500: 100%|██████████| 9/9 [00:00<00:00, 65.67it/s]\n",
      "Epoch 329/500: 100%|██████████| 9/9 [00:00<00:00, 65.86it/s]\n",
      "Epoch 330/500: 100%|██████████| 9/9 [00:00<00:00, 65.46it/s]\n"
     ]
    },
    {
     "name": "stdout",
     "output_type": "stream",
     "text": [
      "Epoch 330/500, Loss: 1.4890\n",
      "Epoch 330/500, Instance Loss: 1.5273\n",
      "Epoch 330/500, Cluster Loss: 1.4508\n",
      "current best epoch: 330\n"
     ]
    },
    {
     "name": "stderr",
     "output_type": "stream",
     "text": [
      "Epoch 331/500: 100%|██████████| 9/9 [00:00<00:00, 65.28it/s]\n",
      "Epoch 332/500: 100%|██████████| 9/9 [00:00<00:00, 63.73it/s]\n",
      "Epoch 333/500: 100%|██████████| 9/9 [00:00<00:00, 63.98it/s]\n",
      "Epoch 334/500: 100%|██████████| 9/9 [00:00<00:00, 64.63it/s]\n",
      "Epoch 335/500: 100%|██████████| 9/9 [00:00<00:00, 65.62it/s]\n",
      "Epoch 336/500: 100%|██████████| 9/9 [00:00<00:00, 65.52it/s]\n",
      "Epoch 337/500: 100%|██████████| 9/9 [00:00<00:00, 65.39it/s]\n",
      "Epoch 338/500: 100%|██████████| 9/9 [00:00<00:00, 65.99it/s]\n",
      "Epoch 339/500: 100%|██████████| 9/9 [00:00<00:00, 67.11it/s]\n",
      "Epoch 340/500: 100%|██████████| 9/9 [00:00<00:00, 67.49it/s]\n"
     ]
    },
    {
     "name": "stdout",
     "output_type": "stream",
     "text": [
      "Epoch 340/500, Loss: 1.4880\n",
      "Epoch 340/500, Instance Loss: 1.5261\n",
      "Epoch 340/500, Cluster Loss: 1.4499\n",
      "current best epoch: 340\n"
     ]
    },
    {
     "name": "stderr",
     "output_type": "stream",
     "text": [
      "Epoch 341/500: 100%|██████████| 9/9 [00:00<00:00, 67.64it/s]\n",
      "Epoch 342/500: 100%|██████████| 9/9 [00:00<00:00, 67.46it/s]\n",
      "Epoch 343/500: 100%|██████████| 9/9 [00:00<00:00, 67.37it/s]\n",
      "Epoch 344/500: 100%|██████████| 9/9 [00:00<00:00, 67.31it/s]\n",
      "Epoch 345/500: 100%|██████████| 9/9 [00:00<00:00, 65.84it/s]\n",
      "Epoch 346/500: 100%|██████████| 9/9 [00:00<00:00, 66.76it/s]\n",
      "Epoch 347/500: 100%|██████████| 9/9 [00:00<00:00, 67.42it/s]\n",
      "Epoch 348/500: 100%|██████████| 9/9 [00:00<00:00, 67.54it/s]\n",
      "Epoch 349/500: 100%|██████████| 9/9 [00:00<00:00, 67.52it/s]\n",
      "Epoch 350/500: 100%|██████████| 9/9 [00:00<00:00, 67.40it/s]\n"
     ]
    },
    {
     "name": "stdout",
     "output_type": "stream",
     "text": [
      "Epoch 350/500, Loss: 1.4872\n",
      "Epoch 350/500, Instance Loss: 1.5251\n",
      "Epoch 350/500, Cluster Loss: 1.4492\n",
      "current best epoch: 350\n"
     ]
    },
    {
     "name": "stderr",
     "output_type": "stream",
     "text": [
      "Epoch 351/500: 100%|██████████| 9/9 [00:00<00:00, 67.28it/s]\n",
      "Epoch 352/500: 100%|██████████| 9/9 [00:00<00:00, 67.67it/s]\n",
      "Epoch 353/500: 100%|██████████| 9/9 [00:00<00:00, 67.77it/s]\n",
      "Epoch 354/500: 100%|██████████| 9/9 [00:00<00:00, 67.41it/s]\n",
      "Epoch 355/500: 100%|██████████| 9/9 [00:00<00:00, 67.47it/s]\n",
      "Epoch 356/500: 100%|██████████| 9/9 [00:00<00:00, 78.01it/s]\n",
      "Epoch 357/500: 100%|██████████| 9/9 [00:00<00:00, 80.76it/s]\n",
      "Epoch 358/500: 100%|██████████| 9/9 [00:00<00:00, 79.99it/s]\n",
      "Epoch 359/500: 100%|██████████| 9/9 [00:00<00:00, 79.32it/s]\n",
      "Epoch 360/500: 100%|██████████| 9/9 [00:00<00:00, 78.75it/s]\n"
     ]
    },
    {
     "name": "stdout",
     "output_type": "stream",
     "text": [
      "Epoch 360/500, Loss: 1.4864\n",
      "Epoch 360/500, Instance Loss: 1.5243\n",
      "Epoch 360/500, Cluster Loss: 1.4486\n",
      "current best epoch: 360\n"
     ]
    },
    {
     "name": "stderr",
     "output_type": "stream",
     "text": [
      "Epoch 361/500: 100%|██████████| 9/9 [00:00<00:00, 81.88it/s]\n",
      "Epoch 362/500: 100%|██████████| 9/9 [00:00<00:00, 79.89it/s]\n",
      "Epoch 363/500: 100%|██████████| 9/9 [00:00<00:00, 79.30it/s]\n",
      "Epoch 364/500: 100%|██████████| 9/9 [00:00<00:00, 79.76it/s]\n",
      "Epoch 365/500: 100%|██████████| 9/9 [00:00<00:00, 81.25it/s]\n",
      "Epoch 366/500: 100%|██████████| 9/9 [00:00<00:00, 94.21it/s]\n",
      "Epoch 367/500: 100%|██████████| 9/9 [00:00<00:00, 94.06it/s]\n",
      "Epoch 368/500: 100%|██████████| 9/9 [00:00<00:00, 95.74it/s]\n",
      "Epoch 369/500: 100%|██████████| 9/9 [00:00<00:00, 80.39it/s]\n",
      "Epoch 370/500: 100%|██████████| 9/9 [00:00<00:00, 67.33it/s]\n"
     ]
    },
    {
     "name": "stdout",
     "output_type": "stream",
     "text": [
      "Epoch 370/500, Loss: 1.4856\n",
      "Epoch 370/500, Instance Loss: 1.5232\n",
      "Epoch 370/500, Cluster Loss: 1.4480\n",
      "current best epoch: 370\n"
     ]
    },
    {
     "name": "stderr",
     "output_type": "stream",
     "text": [
      "Epoch 371/500: 100%|██████████| 9/9 [00:00<00:00, 67.28it/s]\n",
      "Epoch 372/500: 100%|██████████| 9/9 [00:00<00:00, 67.72it/s]\n",
      "Epoch 373/500: 100%|██████████| 9/9 [00:00<00:00, 67.45it/s]\n",
      "Epoch 374/500: 100%|██████████| 9/9 [00:00<00:00, 68.19it/s]\n",
      "Epoch 375/500: 100%|██████████| 9/9 [00:00<00:00, 65.80it/s]\n",
      "Epoch 376/500: 100%|██████████| 9/9 [00:00<00:00, 67.32it/s]\n",
      "Epoch 377/500: 100%|██████████| 9/9 [00:00<00:00, 67.48it/s]\n",
      "Epoch 378/500: 100%|██████████| 9/9 [00:00<00:00, 66.06it/s]\n",
      "Epoch 379/500: 100%|██████████| 9/9 [00:00<00:00, 67.11it/s]\n",
      "Epoch 380/500: 100%|██████████| 9/9 [00:00<00:00, 66.72it/s]\n"
     ]
    },
    {
     "name": "stdout",
     "output_type": "stream",
     "text": [
      "Epoch 380/500, Loss: 1.4847\n",
      "Epoch 380/500, Instance Loss: 1.5222\n",
      "Epoch 380/500, Cluster Loss: 1.4472\n",
      "current best epoch: 380\n"
     ]
    },
    {
     "name": "stderr",
     "output_type": "stream",
     "text": [
      "Epoch 381/500: 100%|██████████| 9/9 [00:00<00:00, 59.34it/s]\n",
      "Epoch 382/500: 100%|██████████| 9/9 [00:00<00:00, 65.06it/s]\n",
      "Epoch 383/500: 100%|██████████| 9/9 [00:00<00:00, 66.18it/s]\n",
      "Epoch 384/500: 100%|██████████| 9/9 [00:00<00:00, 65.18it/s]\n",
      "Epoch 385/500: 100%|██████████| 9/9 [00:00<00:00, 65.07it/s]\n",
      "Epoch 386/500: 100%|██████████| 9/9 [00:00<00:00, 64.99it/s]\n",
      "Epoch 387/500: 100%|██████████| 9/9 [00:00<00:00, 63.79it/s]\n",
      "Epoch 388/500: 100%|██████████| 9/9 [00:00<00:00, 60.83it/s]\n",
      "Epoch 389/500: 100%|██████████| 9/9 [00:00<00:00, 62.98it/s]\n",
      "Epoch 390/500: 100%|██████████| 9/9 [00:00<00:00, 64.31it/s]\n"
     ]
    },
    {
     "name": "stdout",
     "output_type": "stream",
     "text": [
      "Epoch 390/500, Loss: 1.4840\n",
      "Epoch 390/500, Instance Loss: 1.5213\n",
      "Epoch 390/500, Cluster Loss: 1.4467\n",
      "current best epoch: 390\n"
     ]
    },
    {
     "name": "stderr",
     "output_type": "stream",
     "text": [
      "Epoch 391/500: 100%|██████████| 9/9 [00:00<00:00, 65.20it/s]\n",
      "Epoch 392/500: 100%|██████████| 9/9 [00:00<00:00, 65.38it/s]\n",
      "Epoch 393/500: 100%|██████████| 9/9 [00:00<00:00, 64.18it/s]\n",
      "Epoch 394/500: 100%|██████████| 9/9 [00:00<00:00, 65.18it/s]\n",
      "Epoch 395/500: 100%|██████████| 9/9 [00:00<00:00, 65.50it/s]\n",
      "Epoch 396/500: 100%|██████████| 9/9 [00:00<00:00, 65.49it/s]\n",
      "Epoch 397/500: 100%|██████████| 9/9 [00:00<00:00, 65.43it/s]\n",
      "Epoch 398/500: 100%|██████████| 9/9 [00:00<00:00, 63.38it/s]\n",
      "Epoch 399/500: 100%|██████████| 9/9 [00:00<00:00, 62.87it/s]\n",
      "Epoch 400/500: 100%|██████████| 9/9 [00:00<00:00, 64.76it/s]\n"
     ]
    },
    {
     "name": "stdout",
     "output_type": "stream",
     "text": [
      "Epoch 400/500, Loss: 1.4833\n",
      "Epoch 400/500, Instance Loss: 1.5204\n",
      "Epoch 400/500, Cluster Loss: 1.4462\n",
      "current best epoch: 400\n"
     ]
    },
    {
     "name": "stderr",
     "output_type": "stream",
     "text": [
      "Epoch 401/500: 100%|██████████| 9/9 [00:00<00:00, 64.83it/s]\n",
      "Epoch 402/500: 100%|██████████| 9/9 [00:00<00:00, 65.51it/s]\n",
      "Epoch 403/500: 100%|██████████| 9/9 [00:00<00:00, 65.64it/s]\n",
      "Epoch 404/500: 100%|██████████| 9/9 [00:00<00:00, 65.75it/s]\n",
      "Epoch 405/500: 100%|██████████| 9/9 [00:00<00:00, 64.18it/s]\n",
      "Epoch 406/500: 100%|██████████| 9/9 [00:00<00:00, 64.32it/s]\n",
      "Epoch 407/500: 100%|██████████| 9/9 [00:00<00:00, 64.98it/s]\n",
      "Epoch 408/500: 100%|██████████| 9/9 [00:00<00:00, 62.93it/s]\n",
      "Epoch 409/500: 100%|██████████| 9/9 [00:00<00:00, 63.32it/s]\n",
      "Epoch 410/500: 100%|██████████| 9/9 [00:00<00:00, 64.59it/s]\n"
     ]
    },
    {
     "name": "stdout",
     "output_type": "stream",
     "text": [
      "Epoch 410/500, Loss: 1.4826\n",
      "Epoch 410/500, Instance Loss: 1.5196\n",
      "Epoch 410/500, Cluster Loss: 1.4457\n",
      "current best epoch: 410\n"
     ]
    },
    {
     "name": "stderr",
     "output_type": "stream",
     "text": [
      "Epoch 411/500: 100%|██████████| 9/9 [00:00<00:00, 64.30it/s]\n",
      "Epoch 412/500: 100%|██████████| 9/9 [00:00<00:00, 63.71it/s]\n",
      "Epoch 413/500: 100%|██████████| 9/9 [00:00<00:00, 62.93it/s]\n",
      "Epoch 414/500: 100%|██████████| 9/9 [00:00<00:00, 63.14it/s]\n",
      "Epoch 415/500: 100%|██████████| 9/9 [00:00<00:00, 63.55it/s]\n",
      "Epoch 416/500: 100%|██████████| 9/9 [00:00<00:00, 65.67it/s]\n",
      "Epoch 417/500: 100%|██████████| 9/9 [00:00<00:00, 87.53it/s]\n",
      "Epoch 418/500: 100%|██████████| 9/9 [00:00<00:00, 67.26it/s]\n",
      "Epoch 419/500: 100%|██████████| 9/9 [00:00<00:00, 63.81it/s]\n",
      "Epoch 420/500: 100%|██████████| 9/9 [00:00<00:00, 62.62it/s]\n"
     ]
    },
    {
     "name": "stdout",
     "output_type": "stream",
     "text": [
      "Epoch 420/500, Loss: 1.4820\n",
      "Epoch 420/500, Instance Loss: 1.5188\n",
      "Epoch 420/500, Cluster Loss: 1.4453\n",
      "current best epoch: 420\n"
     ]
    },
    {
     "name": "stderr",
     "output_type": "stream",
     "text": [
      "Epoch 421/500: 100%|██████████| 9/9 [00:00<00:00, 63.73it/s]\n",
      "Epoch 422/500: 100%|██████████| 9/9 [00:00<00:00, 63.41it/s]\n",
      "Epoch 423/500: 100%|██████████| 9/9 [00:00<00:00, 63.42it/s]\n",
      "Epoch 424/500: 100%|██████████| 9/9 [00:00<00:00, 63.25it/s]\n",
      "Epoch 425/500: 100%|██████████| 9/9 [00:00<00:00, 62.91it/s]\n",
      "Epoch 426/500: 100%|██████████| 9/9 [00:00<00:00, 61.26it/s]\n",
      "Epoch 427/500: 100%|██████████| 9/9 [00:00<00:00, 60.15it/s]\n",
      "Epoch 428/500: 100%|██████████| 9/9 [00:00<00:00, 58.78it/s]\n",
      "Epoch 429/500: 100%|██████████| 9/9 [00:00<00:00, 60.74it/s]\n",
      "Epoch 430/500: 100%|██████████| 9/9 [00:00<00:00, 61.66it/s]\n"
     ]
    },
    {
     "name": "stdout",
     "output_type": "stream",
     "text": [
      "Epoch 430/500, Loss: 1.4813\n",
      "Epoch 430/500, Instance Loss: 1.5180\n",
      "Epoch 430/500, Cluster Loss: 1.4447\n",
      "current best epoch: 430\n"
     ]
    },
    {
     "name": "stderr",
     "output_type": "stream",
     "text": [
      "Epoch 431/500: 100%|██████████| 9/9 [00:00<00:00, 65.05it/s]\n",
      "Epoch 432/500: 100%|██████████| 9/9 [00:00<00:00, 65.54it/s]\n",
      "Epoch 433/500: 100%|██████████| 9/9 [00:00<00:00, 65.57it/s]\n",
      "Epoch 434/500: 100%|██████████| 9/9 [00:00<00:00, 64.43it/s]\n",
      "Epoch 435/500: 100%|██████████| 9/9 [00:00<00:00, 63.65it/s]\n",
      "Epoch 436/500: 100%|██████████| 9/9 [00:00<00:00, 62.98it/s]\n",
      "Epoch 437/500: 100%|██████████| 9/9 [00:00<00:00, 63.84it/s]\n",
      "Epoch 438/500: 100%|██████████| 9/9 [00:00<00:00, 60.00it/s]\n",
      "Epoch 439/500: 100%|██████████| 9/9 [00:00<00:00, 60.97it/s]\n",
      "Epoch 440/500: 100%|██████████| 9/9 [00:00<00:00, 60.57it/s]\n"
     ]
    },
    {
     "name": "stdout",
     "output_type": "stream",
     "text": [
      "Epoch 440/500, Loss: 1.4807\n",
      "Epoch 440/500, Instance Loss: 1.5173\n",
      "Epoch 440/500, Cluster Loss: 1.4442\n",
      "current best epoch: 440\n"
     ]
    },
    {
     "name": "stderr",
     "output_type": "stream",
     "text": [
      "Epoch 441/500: 100%|██████████| 9/9 [00:00<00:00, 64.62it/s]\n",
      "Epoch 442/500: 100%|██████████| 9/9 [00:00<00:00, 64.19it/s]\n",
      "Epoch 443/500: 100%|██████████| 9/9 [00:00<00:00, 64.75it/s]\n",
      "Epoch 444/500: 100%|██████████| 9/9 [00:00<00:00, 64.36it/s]\n",
      "Epoch 445/500: 100%|██████████| 9/9 [00:00<00:00, 63.96it/s]\n",
      "Epoch 446/500: 100%|██████████| 9/9 [00:00<00:00, 63.28it/s]\n",
      "Epoch 447/500: 100%|██████████| 9/9 [00:00<00:00, 63.50it/s]\n",
      "Epoch 448/500: 100%|██████████| 9/9 [00:00<00:00, 64.54it/s]\n",
      "Epoch 449/500: 100%|██████████| 9/9 [00:00<00:00, 63.86it/s]\n",
      "Epoch 450/500: 100%|██████████| 9/9 [00:00<00:00, 64.06it/s]\n"
     ]
    },
    {
     "name": "stdout",
     "output_type": "stream",
     "text": [
      "Epoch 450/500, Loss: 1.4801\n",
      "Epoch 450/500, Instance Loss: 1.5165\n",
      "Epoch 450/500, Cluster Loss: 1.4437\n",
      "current best epoch: 450\n"
     ]
    },
    {
     "name": "stderr",
     "output_type": "stream",
     "text": [
      "Epoch 451/500: 100%|██████████| 9/9 [00:00<00:00, 59.46it/s]\n",
      "Epoch 452/500: 100%|██████████| 9/9 [00:00<00:00, 59.70it/s]\n",
      "Epoch 453/500: 100%|██████████| 9/9 [00:00<00:00, 64.01it/s]\n",
      "Epoch 454/500: 100%|██████████| 9/9 [00:00<00:00, 65.35it/s]\n",
      "Epoch 455/500: 100%|██████████| 9/9 [00:00<00:00, 64.55it/s]\n",
      "Epoch 456/500: 100%|██████████| 9/9 [00:00<00:00, 70.97it/s]\n",
      "Epoch 457/500: 100%|██████████| 9/9 [00:00<00:00, 84.76it/s]\n",
      "Epoch 458/500: 100%|██████████| 9/9 [00:00<00:00, 77.70it/s]\n",
      "Epoch 459/500: 100%|██████████| 9/9 [00:00<00:00, 61.83it/s]\n",
      "Epoch 460/500: 100%|██████████| 9/9 [00:00<00:00, 64.58it/s]\n"
     ]
    },
    {
     "name": "stdout",
     "output_type": "stream",
     "text": [
      "Epoch 460/500, Loss: 1.4795\n",
      "Epoch 460/500, Instance Loss: 1.5158\n",
      "Epoch 460/500, Cluster Loss: 1.4432\n",
      "current best epoch: 460\n"
     ]
    },
    {
     "name": "stderr",
     "output_type": "stream",
     "text": [
      "Epoch 461/500: 100%|██████████| 9/9 [00:00<00:00, 63.91it/s]\n",
      "Epoch 462/500: 100%|██████████| 9/9 [00:00<00:00, 62.54it/s]\n",
      "Epoch 463/500: 100%|██████████| 9/9 [00:00<00:00, 61.58it/s]\n",
      "Epoch 464/500: 100%|██████████| 9/9 [00:00<00:00, 63.69it/s]\n",
      "Epoch 465/500: 100%|██████████| 9/9 [00:00<00:00, 62.54it/s]\n",
      "Epoch 466/500: 100%|██████████| 9/9 [00:00<00:00, 67.03it/s]\n",
      "Epoch 467/500: 100%|██████████| 9/9 [00:00<00:00, 66.55it/s]\n",
      "Epoch 468/500: 100%|██████████| 9/9 [00:00<00:00, 66.11it/s]\n",
      "Epoch 469/500: 100%|██████████| 9/9 [00:00<00:00, 65.90it/s]\n",
      "Epoch 470/500: 100%|██████████| 9/9 [00:00<00:00, 67.26it/s]\n"
     ]
    },
    {
     "name": "stdout",
     "output_type": "stream",
     "text": [
      "Epoch 470/500, Loss: 1.4790\n",
      "Epoch 470/500, Instance Loss: 1.5152\n",
      "Epoch 470/500, Cluster Loss: 1.4428\n",
      "current best epoch: 470\n"
     ]
    },
    {
     "name": "stderr",
     "output_type": "stream",
     "text": [
      "Epoch 471/500: 100%|██████████| 9/9 [00:00<00:00, 60.21it/s]\n",
      "Epoch 472/500: 100%|██████████| 9/9 [00:00<00:00, 92.18it/s]\n",
      "Epoch 473/500: 100%|██████████| 9/9 [00:00<00:00, 60.37it/s]\n",
      "Epoch 474/500: 100%|██████████| 9/9 [00:00<00:00, 80.06it/s]\n",
      "Epoch 475/500: 100%|██████████| 9/9 [00:00<00:00, 96.37it/s]\n",
      "Epoch 476/500: 100%|██████████| 9/9 [00:00<00:00, 68.79it/s]\n",
      "Epoch 477/500: 100%|██████████| 9/9 [00:00<00:00, 67.23it/s]\n",
      "Epoch 478/500: 100%|██████████| 9/9 [00:00<00:00, 66.63it/s]\n",
      "Epoch 479/500: 100%|██████████| 9/9 [00:00<00:00, 66.42it/s]\n",
      "Epoch 480/500: 100%|██████████| 9/9 [00:00<00:00, 66.88it/s]\n"
     ]
    },
    {
     "name": "stdout",
     "output_type": "stream",
     "text": [
      "Epoch 480/500, Loss: 1.4786\n",
      "Epoch 480/500, Instance Loss: 1.5146\n",
      "Epoch 480/500, Cluster Loss: 1.4426\n",
      "current best epoch: 480\n"
     ]
    },
    {
     "name": "stderr",
     "output_type": "stream",
     "text": [
      "Epoch 481/500: 100%|██████████| 9/9 [00:00<00:00, 67.20it/s]\n",
      "Epoch 482/500: 100%|██████████| 9/9 [00:00<00:00, 66.84it/s]\n",
      "Epoch 483/500: 100%|██████████| 9/9 [00:00<00:00, 66.74it/s]\n",
      "Epoch 484/500: 100%|██████████| 9/9 [00:00<00:00, 66.58it/s]\n",
      "Epoch 485/500: 100%|██████████| 9/9 [00:00<00:00, 66.00it/s]\n",
      "Epoch 486/500: 100%|██████████| 9/9 [00:00<00:00, 66.65it/s]\n",
      "Epoch 487/500: 100%|██████████| 9/9 [00:00<00:00, 66.04it/s]\n",
      "Epoch 488/500: 100%|██████████| 9/9 [00:00<00:00, 66.62it/s]\n",
      "Epoch 489/500: 100%|██████████| 9/9 [00:00<00:00, 66.06it/s]\n",
      "Epoch 490/500: 100%|██████████| 9/9 [00:00<00:00, 66.27it/s]\n"
     ]
    },
    {
     "name": "stdout",
     "output_type": "stream",
     "text": [
      "Epoch 490/500, Loss: 1.4781\n",
      "Epoch 490/500, Instance Loss: 1.5140\n",
      "Epoch 490/500, Cluster Loss: 1.4423\n",
      "current best epoch: 490\n"
     ]
    },
    {
     "name": "stderr",
     "output_type": "stream",
     "text": [
      "Epoch 491/500: 100%|██████████| 9/9 [00:00<00:00, 65.17it/s]\n",
      "Epoch 492/500: 100%|██████████| 9/9 [00:00<00:00, 63.09it/s]\n",
      "Epoch 493/500: 100%|██████████| 9/9 [00:00<00:00, 63.06it/s]\n",
      "Epoch 494/500: 100%|██████████| 9/9 [00:00<00:00, 65.00it/s]\n",
      "Epoch 495/500: 100%|██████████| 9/9 [00:00<00:00, 63.40it/s]\n",
      "Epoch 496/500: 100%|██████████| 9/9 [00:00<00:00, 64.36it/s]\n",
      "Epoch 497/500: 100%|██████████| 9/9 [00:00<00:00, 63.33it/s]\n",
      "Epoch 498/500: 100%|██████████| 9/9 [00:00<00:00, 64.00it/s]\n",
      "Epoch 499/500: 100%|██████████| 9/9 [00:00<00:00, 63.93it/s]\n",
      "Epoch 500/500: 100%|██████████| 9/9 [00:00<00:00, 63.41it/s]\n"
     ]
    },
    {
     "name": "stdout",
     "output_type": "stream",
     "text": [
      "Epoch 500/500, Loss: 1.4776\n",
      "Epoch 500/500, Instance Loss: 1.5133\n",
      "Epoch 500/500, Cluster Loss: 1.4418\n",
      "current best epoch: 500\n",
      "Loading 499th epoch\n",
      "time cost: 87.19892883300781\n",
      "Done\n"
     ]
    }
   ],
   "source": [
    "%run main.py"
   ]
  },
  {
   "cell_type": "code",
   "execution_count": 17,
   "id": "abfe2b6e-98ae-4f3e-8489-1024b2dc29da",
   "metadata": {},
   "outputs": [],
   "source": [
    "from sklearn.metrics import adjusted_rand_score"
   ]
  },
  {
   "cell_type": "code",
   "execution_count": 14,
   "id": "f685c2fd-d4e1-41a8-a6b5-588915611e44",
   "metadata": {},
   "outputs": [],
   "source": [
    "pred_labels= pd.read_csv('pred_pbmc4k.csv', index_col= 0).values.squeeze()"
   ]
  },
  {
   "cell_type": "code",
   "execution_count": 16,
   "id": "7f27c066-4ceb-41c8-90cd-96037e76c0dd",
   "metadata": {},
   "outputs": [],
   "source": [
    "real_labels= np.array(h5py.File('pbmc4k.h5').get('Y')).reshape(-1) #data file, containing X as the cell*gene count matrix and Y as the real label"
   ]
  },
  {
   "cell_type": "code",
   "execution_count": 18,
   "id": "40a4e54d-1c07-4cae-8003-a156c0501c73",
   "metadata": {},
   "outputs": [
    {
     "data": {
      "text/plain": [
       "0.7623809564067827"
      ]
     },
     "execution_count": 18,
     "metadata": {},
     "output_type": "execute_result"
    }
   ],
   "source": [
    "adjusted_rand_score(pred_labels, real_labels)"
   ]
  }
 ],
 "metadata": {
  "kernelspec": {
   "display_name": "Python 3 (ipykernel)",
   "language": "python",
   "name": "python3"
  },
  "language_info": {
   "codemirror_mode": {
    "name": "ipython",
    "version": 3
   },
   "file_extension": ".py",
   "mimetype": "text/x-python",
   "name": "python",
   "nbconvert_exporter": "python",
   "pygments_lexer": "ipython3",
   "version": "3.12.3"
  }
 },
 "nbformat": 4,
 "nbformat_minor": 5
}
